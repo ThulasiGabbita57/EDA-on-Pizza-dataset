{
 "cells": [
  {
   "cell_type": "markdown",
   "metadata": {},
   "source": [
    "# Exploratory Data Analysis of Pizza and its Nutritional values and Performing Ttest\n",
    "\n",
    "                                                                            -  Thulasi Gabbita(NU01134)\n",
    "                                                                            -  Shivakumar Jayaraman(KJ04412)"
   ]
  },
  {
   "cell_type": "markdown",
   "metadata": {},
   "source": [
    "# Introduction:\n",
    "\n",
    "As part of DATA-601 Final project, We have taken  a pizza restaurant dataset, comprising of types of pizzas sold by the restaurant, ingredients of each pizza, pizza sales in 1 year(2015) and merged with fruits and vegetables nutritional value dataset to perform Exploratory Data Analysis. \n",
    "\n",
    "#### Our problem statement is to find the nutrition facts of the pizzas sold by pizza restaurant and to recommend a holisticpizza with balanced macro nutrients "
   ]
  },
  {
   "cell_type": "markdown",
   "metadata": {},
   "source": [
    "## Dataset details:\n",
    "\n",
    "1. Popular High Protein foods dataset containing macro nutrients details.\n",
    "\n",
    "    source:https://www.kaggle.com/datasets/fydrose/macros-of-popular-high-protein-foods\n",
    "\n",
    "\n",
    "2. Food and their calories dataset \n",
    "\n",
    "    source:https://www.kaggle.com/datasets/vaishnavivenkatesan/food-and-their-calories\n",
    "\n",
    "\n",
    "3. Fruits and Vegetables along with their nutritional values\n",
    "\n",
    "    source:https://www.kaggle.com/datasets/yoyoyloloy/fruits-and-vegetables-nutritional-values?select=fruits.csv\n",
    "\n",
    "\n",
    "4. Pizza sales: \n",
    "\n",
    "    source: https://www.mavenanalytics.io/data-playground > Pizza Place Sales"
   ]
  },
  {
   "cell_type": "markdown",
   "metadata": {},
   "source": [
    "# Assumptions made:\n",
    "\n",
    "1. For each small pizza, each ingredient weight is 50gm, for medium size pizza, each ingredient weight is 100gm, large pizza - 150gm, xl pizza - 200gm, xxxl pizza - 300gm \n",
    "1. Different cheese types were normalized into 1 category\n",
    "1. Only one person is eating the whole pizza\n",
    "1. Sause or seasonings has no nutritional value\n",
    "1. We have taken the ideal nutritional range as Carbs between 45% to 65%, fats 20% to 35%, protein 10% to 35%\n",
    "\n",
    "    Reference : https://www.medicalnewstoday.com/articles/320773#what-is-a-low-carb-diet\n"
   ]
  },
  {
   "cell_type": "code",
   "execution_count": 1,
   "metadata": {
    "ExecuteTime": {
     "end_time": "2022-12-13T23:38:22.105846Z",
     "start_time": "2022-12-13T23:38:19.125362Z"
    }
   },
   "outputs": [],
   "source": [
    "#Importing all modules\n",
    "import pandas as pd\n",
    "import seaborn as sns\n",
    "import matplotlib.pyplot as plt\n",
    "import numpy as np\n",
    "from nltk.stem import PorterStemmer\n",
    "import re"
   ]
  },
  {
   "cell_type": "markdown",
   "metadata": {
    "heading_collapsed": true
   },
   "source": [
    "# Loading datasets"
   ]
  },
  {
   "cell_type": "code",
   "execution_count": 2,
   "metadata": {
    "ExecuteTime": {
     "end_time": "2022-12-13T23:38:22.169541Z",
     "start_time": "2022-12-13T23:38:22.105846Z"
    },
    "hidden": true
   },
   "outputs": [],
   "source": [
    "od_df = pd.read_csv('Pizza_Place_Sales/pizza_sales/order_details.csv')\n",
    "o_df = pd.read_csv('Pizza_Place_Sales/pizza_sales/orders.csv')\n",
    "p_df = pd.read_csv('Pizza_Place_Sales/pizza_sales/pizzas.csv')"
   ]
  },
  {
   "cell_type": "markdown",
   "metadata": {
    "hidden": true
   },
   "source": [
    "Fixing some encoding errors with `pizza_types.csv`"
   ]
  },
  {
   "cell_type": "code",
   "execution_count": 3,
   "metadata": {
    "ExecuteTime": {
     "end_time": "2022-12-10T02:25:57.886659Z",
     "start_time": "2022-12-10T02:25:57.870659Z"
    },
    "deletable": false,
    "editable": false,
    "hidden": true,
    "run_control": {
     "frozen": true
    }
   },
   "outputs": [],
   "source": [
    "with open('Pizza_Place_Sales/pizza_sales/pizza_types.csv', 'rb') as f:\n",
    "    text = f.read()\n",
    "    text_list = list(text)\n",
    "    for idx, chars in enumerate(text_list):\n",
    "        if chars == 145:\n",
    "            text_list.pop(idx)\n",
    "    text = bytes(text_list)"
   ]
  },
  {
   "cell_type": "code",
   "execution_count": 4,
   "metadata": {
    "ExecuteTime": {
     "end_time": "2022-12-10T02:25:58.857815Z",
     "start_time": "2022-12-10T02:25:58.840914Z"
    },
    "deletable": false,
    "editable": false,
    "hidden": true,
    "run_control": {
     "frozen": true
    }
   },
   "outputs": [],
   "source": [
    "with open(\"Pizza_Place_Sales/pizza_sales/pizza_types_corrected.csv\", \"wb\") as binary_file:\n",
    "    # Write bytes to file\n",
    "    binary_file.write(text)"
   ]
  },
  {
   "cell_type": "code",
   "execution_count": 3,
   "metadata": {
    "ExecuteTime": {
     "end_time": "2022-12-13T23:38:22.185527Z",
     "start_time": "2022-12-13T23:38:22.169541Z"
    },
    "hidden": true
   },
   "outputs": [],
   "source": [
    "pt_df = pd.read_csv('Pizza_Place_Sales/pizza_sales/pizza_types_corrected.csv')"
   ]
  },
  {
   "cell_type": "markdown",
   "metadata": {},
   "source": [
    "# Sanity Checks"
   ]
  },
  {
   "cell_type": "markdown",
   "metadata": {},
   "source": [
    "## orders"
   ]
  },
  {
   "cell_type": "code",
   "execution_count": 4,
   "metadata": {
    "ExecuteTime": {
     "end_time": "2022-12-13T23:38:22.217526Z",
     "start_time": "2022-12-13T23:38:22.185527Z"
    }
   },
   "outputs": [
    {
     "name": "stdout",
     "output_type": "stream",
     "text": [
      "<class 'pandas.core.frame.DataFrame'>\n",
      "RangeIndex: 21350 entries, 0 to 21349\n",
      "Data columns (total 3 columns):\n",
      " #   Column    Non-Null Count  Dtype \n",
      "---  ------    --------------  ----- \n",
      " 0   order_id  21350 non-null  int64 \n",
      " 1   date      21350 non-null  object\n",
      " 2   time      21350 non-null  object\n",
      "dtypes: int64(1), object(2)\n",
      "memory usage: 500.5+ KB\n"
     ]
    }
   ],
   "source": [
    "o_df.info()"
   ]
  },
  {
   "cell_type": "code",
   "execution_count": 5,
   "metadata": {
    "ExecuteTime": {
     "end_time": "2022-12-13T23:38:22.233525Z",
     "start_time": "2022-12-13T23:38:22.217526Z"
    }
   },
   "outputs": [],
   "source": [
    "# merge 'date' and 'time' together\n",
    "o_df['order_time'] = o_df['date'] + ' ' + o_df['time']"
   ]
  },
  {
   "cell_type": "code",
   "execution_count": 6,
   "metadata": {
    "ExecuteTime": {
     "end_time": "2022-12-13T23:38:22.257524Z",
     "start_time": "2022-12-13T23:38:22.233525Z"
    }
   },
   "outputs": [],
   "source": [
    "o_df['order_time'] = pd.to_datetime(o_df['order_time'])"
   ]
  },
  {
   "cell_type": "markdown",
   "metadata": {},
   "source": [
    "## order_details"
   ]
  },
  {
   "cell_type": "code",
   "execution_count": 7,
   "metadata": {
    "ExecuteTime": {
     "end_time": "2022-12-13T23:38:22.273549Z",
     "start_time": "2022-12-13T23:38:22.257524Z"
    }
   },
   "outputs": [
    {
     "name": "stdout",
     "output_type": "stream",
     "text": [
      "<class 'pandas.core.frame.DataFrame'>\n",
      "RangeIndex: 48620 entries, 0 to 48619\n",
      "Data columns (total 4 columns):\n",
      " #   Column            Non-Null Count  Dtype \n",
      "---  ------            --------------  ----- \n",
      " 0   order_details_id  48620 non-null  int64 \n",
      " 1   order_id          48620 non-null  int64 \n",
      " 2   pizza_id          48620 non-null  object\n",
      " 3   quantity          48620 non-null  int64 \n",
      "dtypes: int64(3), object(1)\n",
      "memory usage: 1.5+ MB\n"
     ]
    }
   ],
   "source": [
    "od_df.info()"
   ]
  },
  {
   "cell_type": "code",
   "execution_count": 8,
   "metadata": {
    "ExecuteTime": {
     "end_time": "2022-12-13T23:38:22.305536Z",
     "start_time": "2022-12-13T23:38:22.273549Z"
    },
    "scrolled": true
   },
   "outputs": [
    {
     "data": {
      "text/html": [
       "<div>\n",
       "<style scoped>\n",
       "    .dataframe tbody tr th:only-of-type {\n",
       "        vertical-align: middle;\n",
       "    }\n",
       "\n",
       "    .dataframe tbody tr th {\n",
       "        vertical-align: top;\n",
       "    }\n",
       "\n",
       "    .dataframe thead th {\n",
       "        text-align: right;\n",
       "    }\n",
       "</style>\n",
       "<table border=\"1\" class=\"dataframe\">\n",
       "  <thead>\n",
       "    <tr style=\"text-align: right;\">\n",
       "      <th></th>\n",
       "      <th>order_details_id</th>\n",
       "      <th>order_id</th>\n",
       "      <th>quantity</th>\n",
       "    </tr>\n",
       "  </thead>\n",
       "  <tbody>\n",
       "    <tr>\n",
       "      <th>count</th>\n",
       "      <td>48620.000000</td>\n",
       "      <td>48620.000000</td>\n",
       "      <td>48620.000000</td>\n",
       "    </tr>\n",
       "    <tr>\n",
       "      <th>mean</th>\n",
       "      <td>24310.500000</td>\n",
       "      <td>10701.479761</td>\n",
       "      <td>1.019622</td>\n",
       "    </tr>\n",
       "    <tr>\n",
       "      <th>std</th>\n",
       "      <td>14035.529381</td>\n",
       "      <td>6180.119770</td>\n",
       "      <td>0.143077</td>\n",
       "    </tr>\n",
       "    <tr>\n",
       "      <th>min</th>\n",
       "      <td>1.000000</td>\n",
       "      <td>1.000000</td>\n",
       "      <td>1.000000</td>\n",
       "    </tr>\n",
       "    <tr>\n",
       "      <th>25%</th>\n",
       "      <td>12155.750000</td>\n",
       "      <td>5337.000000</td>\n",
       "      <td>1.000000</td>\n",
       "    </tr>\n",
       "    <tr>\n",
       "      <th>50%</th>\n",
       "      <td>24310.500000</td>\n",
       "      <td>10682.500000</td>\n",
       "      <td>1.000000</td>\n",
       "    </tr>\n",
       "    <tr>\n",
       "      <th>75%</th>\n",
       "      <td>36465.250000</td>\n",
       "      <td>16100.000000</td>\n",
       "      <td>1.000000</td>\n",
       "    </tr>\n",
       "    <tr>\n",
       "      <th>max</th>\n",
       "      <td>48620.000000</td>\n",
       "      <td>21350.000000</td>\n",
       "      <td>4.000000</td>\n",
       "    </tr>\n",
       "  </tbody>\n",
       "</table>\n",
       "</div>"
      ],
      "text/plain": [
       "       order_details_id      order_id      quantity\n",
       "count      48620.000000  48620.000000  48620.000000\n",
       "mean       24310.500000  10701.479761      1.019622\n",
       "std        14035.529381   6180.119770      0.143077\n",
       "min            1.000000      1.000000      1.000000\n",
       "25%        12155.750000   5337.000000      1.000000\n",
       "50%        24310.500000  10682.500000      1.000000\n",
       "75%        36465.250000  16100.000000      1.000000\n",
       "max        48620.000000  21350.000000      4.000000"
      ]
     },
     "execution_count": 8,
     "metadata": {},
     "output_type": "execute_result"
    }
   ],
   "source": [
    "od_df.describe()"
   ]
  },
  {
   "cell_type": "code",
   "execution_count": 9,
   "metadata": {
    "ExecuteTime": {
     "end_time": "2022-12-13T23:38:22.321564Z",
     "start_time": "2022-12-13T23:38:22.305536Z"
    }
   },
   "outputs": [
    {
     "data": {
      "text/plain": [
       "order_details_id    0\n",
       "order_id            0\n",
       "pizza_id            0\n",
       "quantity            0\n",
       "dtype: int64"
      ]
     },
     "execution_count": 9,
     "metadata": {},
     "output_type": "execute_result"
    }
   ],
   "source": [
    "od_df.isnull().sum()"
   ]
  },
  {
   "cell_type": "code",
   "execution_count": 10,
   "metadata": {
    "ExecuteTime": {
     "end_time": "2022-12-13T23:38:22.545564Z",
     "start_time": "2022-12-13T23:38:22.321564Z"
    }
   },
   "outputs": [
    {
     "data": {
      "text/plain": [
       "<AxesSubplot:xlabel='quantity', ylabel='Count'>"
      ]
     },
     "execution_count": 10,
     "metadata": {},
     "output_type": "execute_result"
    },
    {
     "data": {
      "image/png": "[encoded data removed]",
      "text/plain": [
       "<Figure size 432x288 with 1 Axes>"
      ]
     },
     "metadata": {
      "needs_background": "light"
     },
     "output_type": "display_data"
    }
   ],
   "source": [
    "sns.histplot(od_df['quantity'])"
   ]
  },
  {
   "cell_type": "markdown",
   "metadata": {},
   "source": [
    "## pizzas"
   ]
  },
  {
   "cell_type": "code",
   "execution_count": 11,
   "metadata": {
    "ExecuteTime": {
     "end_time": "2022-12-13T23:38:22.561526Z",
     "start_time": "2022-12-13T23:38:22.545564Z"
    }
   },
   "outputs": [
    {
     "data": {
      "text/html": [
       "<div>\n",
       "<style scoped>\n",
       "    .dataframe tbody tr th:only-of-type {\n",
       "        vertical-align: middle;\n",
       "    }\n",
       "\n",
       "    .dataframe tbody tr th {\n",
       "        vertical-align: top;\n",
       "    }\n",
       "\n",
       "    .dataframe thead th {\n",
       "        text-align: right;\n",
       "    }\n",
       "</style>\n",
       "<table border=\"1\" class=\"dataframe\">\n",
       "  <thead>\n",
       "    <tr style=\"text-align: right;\">\n",
       "      <th></th>\n",
       "      <th>price</th>\n",
       "    </tr>\n",
       "  </thead>\n",
       "  <tbody>\n",
       "    <tr>\n",
       "      <th>count</th>\n",
       "      <td>96.000000</td>\n",
       "    </tr>\n",
       "    <tr>\n",
       "      <th>mean</th>\n",
       "      <td>16.440625</td>\n",
       "    </tr>\n",
       "    <tr>\n",
       "      <th>std</th>\n",
       "      <td>4.090266</td>\n",
       "    </tr>\n",
       "    <tr>\n",
       "      <th>min</th>\n",
       "      <td>9.750000</td>\n",
       "    </tr>\n",
       "    <tr>\n",
       "      <th>25%</th>\n",
       "      <td>12.500000</td>\n",
       "    </tr>\n",
       "    <tr>\n",
       "      <th>50%</th>\n",
       "      <td>16.250000</td>\n",
       "    </tr>\n",
       "    <tr>\n",
       "      <th>75%</th>\n",
       "      <td>20.250000</td>\n",
       "    </tr>\n",
       "    <tr>\n",
       "      <th>max</th>\n",
       "      <td>35.950000</td>\n",
       "    </tr>\n",
       "  </tbody>\n",
       "</table>\n",
       "</div>"
      ],
      "text/plain": [
       "           price\n",
       "count  96.000000\n",
       "mean   16.440625\n",
       "std     4.090266\n",
       "min     9.750000\n",
       "25%    12.500000\n",
       "50%    16.250000\n",
       "75%    20.250000\n",
       "max    35.950000"
      ]
     },
     "execution_count": 11,
     "metadata": {},
     "output_type": "execute_result"
    }
   ],
   "source": [
    "p_df.describe()"
   ]
  },
  {
   "cell_type": "markdown",
   "metadata": {},
   "source": [
    "## pizza_types"
   ]
  },
  {
   "cell_type": "code",
   "execution_count": 12,
   "metadata": {
    "ExecuteTime": {
     "end_time": "2022-12-13T23:38:22.577521Z",
     "start_time": "2022-12-13T23:38:22.561526Z"
    }
   },
   "outputs": [
    {
     "name": "stdout",
     "output_type": "stream",
     "text": [
      "<class 'pandas.core.frame.DataFrame'>\n",
      "RangeIndex: 32 entries, 0 to 31\n",
      "Data columns (total 4 columns):\n",
      " #   Column         Non-Null Count  Dtype \n",
      "---  ------         --------------  ----- \n",
      " 0   pizza_type_id  32 non-null     object\n",
      " 1   name           32 non-null     object\n",
      " 2   category       32 non-null     object\n",
      " 3   ingredients    32 non-null     object\n",
      "dtypes: object(4)\n",
      "memory usage: 1.1+ KB\n"
     ]
    }
   ],
   "source": [
    "pt_df.info()"
   ]
  },
  {
   "cell_type": "code",
   "execution_count": 13,
   "metadata": {
    "ExecuteTime": {
     "end_time": "2022-12-13T23:38:22.585523Z",
     "start_time": "2022-12-13T23:38:22.577521Z"
    }
   },
   "outputs": [
    {
     "data": {
      "text/plain": [
       "pizza_type_id    0\n",
       "name             0\n",
       "category         0\n",
       "ingredients      0\n",
       "dtype: int64"
      ]
     },
     "execution_count": 13,
     "metadata": {},
     "output_type": "execute_result"
    }
   ],
   "source": [
    "pt_df.isnull().sum()"
   ]
  },
  {
   "cell_type": "markdown",
   "metadata": {
    "heading_collapsed": true
   },
   "source": [
    "### Pizza sales tabels are clean"
   ]
  },
  {
   "cell_type": "markdown",
   "metadata": {},
   "source": [
    "# Cleaning datasets"
   ]
  },
  {
   "cell_type": "code",
   "execution_count": 14,
   "metadata": {
    "ExecuteTime": {
     "end_time": "2022-12-13T23:38:22.593523Z",
     "start_time": "2022-12-13T23:38:22.585523Z"
    }
   },
   "outputs": [],
   "source": [
    "pt_df['ingredients'] = pt_df['ingredients'].str.lower()"
   ]
  },
  {
   "cell_type": "code",
   "execution_count": 15,
   "metadata": {
    "ExecuteTime": {
     "end_time": "2022-12-13T23:38:22.609524Z",
     "start_time": "2022-12-13T23:38:22.593523Z"
    }
   },
   "outputs": [],
   "source": [
    "# Adding bread as an ingredient to all the pizzas. \n",
    "pt_df['ingredients'] = pt_df['ingredients'].apply(lambda x: x + ',' + 'wheat')"
   ]
  },
  {
   "cell_type": "markdown",
   "metadata": {
    "heading_collapsed": true
   },
   "source": [
    "### Fetching unique pizza ingredients\n",
    "\n",
    "Need to get all the relevant ingredients from other tables before cleaning this list further"
   ]
  },
  {
   "cell_type": "code",
   "execution_count": 16,
   "metadata": {
    "ExecuteTime": {
     "end_time": "2022-12-13T23:38:22.625559Z",
     "start_time": "2022-12-13T23:38:22.609524Z"
    },
    "hidden": true
   },
   "outputs": [],
   "source": [
    "pizza_ingredients = set()\n",
    "def ingredients(line):\n",
    "    pizza_ingredients.update(line.split(','))"
   ]
  },
  {
   "cell_type": "code",
   "execution_count": 17,
   "metadata": {
    "ExecuteTime": {
     "end_time": "2022-12-13T23:38:22.641524Z",
     "start_time": "2022-12-13T23:38:22.625559Z"
    },
    "hidden": true,
    "scrolled": false
   },
   "outputs": [
    {
     "data": {
      "text/plain": [
       "0     None\n",
       "1     None\n",
       "2     None\n",
       "3     None\n",
       "4     None\n",
       "5     None\n",
       "6     None\n",
       "7     None\n",
       "8     None\n",
       "9     None\n",
       "10    None\n",
       "11    None\n",
       "12    None\n",
       "13    None\n",
       "14    None\n",
       "15    None\n",
       "16    None\n",
       "17    None\n",
       "18    None\n",
       "19    None\n",
       "20    None\n",
       "21    None\n",
       "22    None\n",
       "23    None\n",
       "24    None\n",
       "25    None\n",
       "26    None\n",
       "27    None\n",
       "28    None\n",
       "29    None\n",
       "30    None\n",
       "31    None\n",
       "Name: ingredients, dtype: object"
      ]
     },
     "execution_count": 17,
     "metadata": {},
     "output_type": "execute_result"
    }
   ],
   "source": [
    "pt_df['ingredients'].apply(lambda x: ingredients(x))"
   ]
  },
  {
   "cell_type": "markdown",
   "metadata": {
    "heading_collapsed": true
   },
   "source": [
    "## clean the ingredients into just their natural form"
   ]
  },
  {
   "cell_type": "code",
   "execution_count": 18,
   "metadata": {
    "ExecuteTime": {
     "end_time": "2022-12-13T23:38:22.649522Z",
     "start_time": "2022-12-13T23:38:22.641524Z"
    },
    "hidden": true
   },
   "outputs": [],
   "source": [
    "pizza_ingredients = list(pizza_ingredients)\n",
    "for i,val in enumerate(pizza_ingredients):\n",
    "    pizza_ingredients[i] = val.strip().lower()\n",
    "pizza_ingredients = set(pizza_ingredients)"
   ]
  },
  {
   "cell_type": "code",
   "execution_count": 19,
   "metadata": {
    "ExecuteTime": {
     "end_time": "2022-12-13T23:38:22.665563Z",
     "start_time": "2022-12-13T23:38:22.649522Z"
    },
    "hidden": true
   },
   "outputs": [
    {
     "data": {
      "text/plain": [
       "{'alfredo sauce',\n",
       " 'anchovies',\n",
       " 'artichoke',\n",
       " 'artichokes',\n",
       " 'arugula',\n",
       " 'asiago cheese',\n",
       " 'bacon',\n",
       " 'barbecue sauce',\n",
       " 'barbecued chicken',\n",
       " 'beef chuck roast',\n",
       " 'blue cheese',\n",
       " 'brie carre cheese',\n",
       " 'calabrese salami',\n",
       " 'capocollo',\n",
       " 'caramelized onions',\n",
       " 'chicken',\n",
       " 'chipotle sauce',\n",
       " 'chorizo sausage',\n",
       " 'cilantro',\n",
       " 'coarse sicilian salami',\n",
       " 'corn',\n",
       " 'eggplant',\n",
       " 'feta cheese',\n",
       " 'fontina cheese',\n",
       " 'friggitello peppers',\n",
       " 'garlic',\n",
       " 'genoa salami',\n",
       " 'goat cheese',\n",
       " 'gorgonzola piccante cheese',\n",
       " 'gouda cheese',\n",
       " 'green olives',\n",
       " 'green peppers',\n",
       " 'italian sausage',\n",
       " 'jalapeno peppers',\n",
       " 'kalamata olives',\n",
       " 'luganega sausage',\n",
       " 'mozzarella cheese',\n",
       " 'mushrooms',\n",
       " 'nduja salami',\n",
       " 'onions',\n",
       " 'oregano',\n",
       " 'pancetta',\n",
       " 'parmigiano reggiano cheese',\n",
       " 'pears',\n",
       " 'peperoncini verdi',\n",
       " 'pepperoni',\n",
       " 'pesto sauce',\n",
       " 'pineapple',\n",
       " 'plum tomatoes',\n",
       " 'prosciutto',\n",
       " 'prosciutto di san daniele',\n",
       " 'provolone cheese',\n",
       " 'red onions',\n",
       " 'red peppers',\n",
       " 'ricotta cheese',\n",
       " 'romano cheese',\n",
       " 'sliced ham',\n",
       " 'smoked gouda cheese',\n",
       " 'soppressata salami',\n",
       " 'spinach',\n",
       " 'sun-dried tomatoes',\n",
       " 'thai sweet chilli sauce',\n",
       " 'thyme',\n",
       " 'tomatoes',\n",
       " 'wheat',\n",
       " 'zucchini'}"
      ]
     },
     "execution_count": 19,
     "metadata": {},
     "output_type": "execute_result"
    }
   ],
   "source": [
    "pizza_ingredients"
   ]
  },
  {
   "cell_type": "code",
   "execution_count": 20,
   "metadata": {
    "ExecuteTime": {
     "end_time": "2022-12-13T23:38:22.681524Z",
     "start_time": "2022-12-13T23:38:22.665563Z"
    },
    "hidden": true
   },
   "outputs": [],
   "source": [
    "unique_ingredients = ['chicken', 'tomato', 'pancetta', 'ham', 'sausage', 'bacon', 'prosciutto', 'salami', 'capocollo',\n",
    "                      'beef', 'anchovies', 'olive', 'corn', 'arugula', 'artichoke', 'mushroom', 'pepper', 'garlic',\n",
    "                      'spinach', 'onion', 'eggplant', 'zucchini', 'cheese', 'pear', 'pineapple', 'cilantro', 'oregano',\n",
    "                      'thyme', 'sauce', 'wheat']\n",
    " \n",
    "    \n",
    "item_regex = re.compile('|'.join(unique_ingredients), re.IGNORECASE)"
   ]
  },
  {
   "cell_type": "code",
   "execution_count": 21,
   "metadata": {
    "ExecuteTime": {
     "end_time": "2022-12-13T23:38:22.705530Z",
     "start_time": "2022-12-13T23:38:22.681524Z"
    },
    "hidden": true
   },
   "outputs": [],
   "source": [
    "# convert the \"ingredients\" into their natural form.\n",
    "pt_df['clean_ingredients'] = pt_df['ingredients'].apply(lambda x: list(set(item_regex.findall(x))))"
   ]
  },
  {
   "cell_type": "code",
   "execution_count": 22,
   "metadata": {
    "ExecuteTime": {
     "end_time": "2022-12-13T23:38:22.721561Z",
     "start_time": "2022-12-13T23:38:22.705530Z"
    },
    "hidden": true
   },
   "outputs": [],
   "source": [
    "pt_df['clean_ingredients'] = pt_df['clean_ingredients'].apply(lambda x: ','.join(x))"
   ]
  },
  {
   "cell_type": "code",
   "execution_count": 23,
   "metadata": {
    "ExecuteTime": {
     "end_time": "2022-12-13T23:38:22.737567Z",
     "start_time": "2022-12-13T23:38:22.721561Z"
    },
    "hidden": true
   },
   "outputs": [],
   "source": [
    "\"\"\" \n",
    "1. Turning the \"clean_ingredients\" from a list type element to single_ingredient per row \n",
    "2. First split the \"cleann_ingredients\" at ',' character, then use \"stack\" method to \n",
    "    convert the list of lists into a single-column DataFrame\n",
    "\"\"\"\n",
    "\n",
    "temp_df = pd.DataFrame(pt_df['clean_ingredients'].str.split(\",\").to_list(), index=pt_df['pizza_type_id']).stack()\n",
    "temp_df = temp_df.reset_index([\"pizza_type_id\"])\n",
    "temp_df.columns = ['pizza_type_id', 'single_ingredients']\n"
   ]
  },
  {
   "cell_type": "code",
   "execution_count": 24,
   "metadata": {
    "ExecuteTime": {
     "end_time": "2022-12-13T23:38:22.761574Z",
     "start_time": "2022-12-13T23:38:22.737567Z"
    },
    "hidden": true
   },
   "outputs": [],
   "source": [
    "# Merge the single_ingredient dataframe with original dataframe\n",
    "pt_df = temp_df.merge(pt_df, on='pizza_type_id')\n",
    "\n",
    "# drop redundant columns\n",
    "pt_df.drop(['ingredients', 'clean_ingredients'], axis=1, inplace=True)"
   ]
  },
  {
   "cell_type": "code",
   "execution_count": 25,
   "metadata": {
    "ExecuteTime": {
     "end_time": "2022-12-13T23:38:22.777561Z",
     "start_time": "2022-12-13T23:38:22.761574Z"
    },
    "hidden": true
   },
   "outputs": [],
   "source": [
    "# all these meats are variations of pork or bacon\n",
    "meats = {'bacon': ['ham', 'prosciutto', 'capocollo', 'salami', 'pancetta', 'sausage'],\\\n",
    "         'others' : ['mushroom', 'olive', 'oregano', 'thyme', 'cilantro', 'arugula', 'sauce']}\n",
    "pt_df['single_ingredients'] = pt_df['single_ingredients'].apply(lambda x: 'bacon' if x in meats['bacon'] else x)\n",
    "pt_df['single_ingredients'] = pt_df['single_ingredients'].apply(lambda x: 'others' if x in meats['others'] else x)"
   ]
  },
  {
   "cell_type": "code",
   "execution_count": 26,
   "metadata": {
    "ExecuteTime": {
     "end_time": "2022-12-13T23:38:22.793524Z",
     "start_time": "2022-12-13T23:38:22.777561Z"
    },
    "hidden": true
   },
   "outputs": [
    {
     "data": {
      "text/plain": [
       "wheat        32\n",
       "others       27\n",
       "garlic       20\n",
       "tomato       19\n",
       "pepper       17\n",
       "cheese       17\n",
       "bacon        17\n",
       "onion        15\n",
       "spinach       8\n",
       "artichoke     6\n",
       "chicken       6\n",
       "corn          2\n",
       "pineapple     2\n",
       "zucchini      2\n",
       "anchovies     1\n",
       "beef          1\n",
       "pear          1\n",
       "eggplant      1\n",
       "Name: single_ingredients, dtype: int64"
      ]
     },
     "execution_count": 26,
     "metadata": {},
     "output_type": "execute_result"
    }
   ],
   "source": [
    "pt_df['single_ingredients'].value_counts()"
   ]
  },
  {
   "cell_type": "markdown",
   "metadata": {
    "heading_collapsed": true
   },
   "source": [
    "## Merging all pizza tables"
   ]
  },
  {
   "cell_type": "code",
   "execution_count": 27,
   "metadata": {
    "ExecuteTime": {
     "end_time": "2022-12-13T23:38:22.809567Z",
     "start_time": "2022-12-13T23:38:22.793524Z"
    },
    "hidden": true
   },
   "outputs": [],
   "source": [
    "o_df.drop(['date', 'time'], axis=1, inplace=True)\n",
    "p_df['size'] = p_df['size'].apply(lambda x: x.lower())"
   ]
  },
  {
   "cell_type": "code",
   "execution_count": 28,
   "metadata": {
    "ExecuteTime": {
     "end_time": "2022-12-13T23:38:22.889525Z",
     "start_time": "2022-12-13T23:38:22.809567Z"
    },
    "hidden": true
   },
   "outputs": [],
   "source": [
    "# merge orders table with order_details on\n",
    "orders_df = o_df.merge(od_df, how='left', on='order_id')\n",
    "\n",
    "# merge orders with pizza price data \n",
    "p_orders_df = orders_df.merge(p_df, how='left', on='pizza_id')\n",
    "\n",
    "# merge pizza orders with pizza types\n",
    "pizza_final = p_orders_df.merge(pt_df, how='left', on='pizza_type_id')\n"
   ]
  },
  {
   "cell_type": "code",
   "execution_count": 29,
   "metadata": {
    "ExecuteTime": {
     "end_time": "2022-12-13T23:38:22.905522Z",
     "start_time": "2022-12-13T23:38:22.889525Z"
    },
    "hidden": true,
    "scrolled": false
   },
   "outputs": [
    {
     "data": {
      "text/html": [
       "<div>\n",
       "<style scoped>\n",
       "    .dataframe tbody tr th:only-of-type {\n",
       "        vertical-align: middle;\n",
       "    }\n",
       "\n",
       "    .dataframe tbody tr th {\n",
       "        vertical-align: top;\n",
       "    }\n",
       "\n",
       "    .dataframe thead th {\n",
       "        text-align: right;\n",
       "    }\n",
       "</style>\n",
       "<table border=\"1\" class=\"dataframe\">\n",
       "  <thead>\n",
       "    <tr style=\"text-align: right;\">\n",
       "      <th></th>\n",
       "      <th>order_id</th>\n",
       "      <th>order_time</th>\n",
       "      <th>order_details_id</th>\n",
       "      <th>pizza_id</th>\n",
       "      <th>quantity</th>\n",
       "      <th>pizza_type_id</th>\n",
       "      <th>size</th>\n",
       "      <th>price</th>\n",
       "      <th>single_ingredients</th>\n",
       "      <th>name</th>\n",
       "      <th>category</th>\n",
       "    </tr>\n",
       "  </thead>\n",
       "  <tbody>\n",
       "    <tr>\n",
       "      <th>0</th>\n",
       "      <td>1</td>\n",
       "      <td>2015-01-01 11:38:36</td>\n",
       "      <td>1</td>\n",
       "      <td>hawaiian_m</td>\n",
       "      <td>1</td>\n",
       "      <td>hawaiian</td>\n",
       "      <td>m</td>\n",
       "      <td>13.25</td>\n",
       "      <td>pineapple</td>\n",
       "      <td>The Hawaiian Pizza</td>\n",
       "      <td>Classic</td>\n",
       "    </tr>\n",
       "    <tr>\n",
       "      <th>1</th>\n",
       "      <td>1</td>\n",
       "      <td>2015-01-01 11:38:36</td>\n",
       "      <td>1</td>\n",
       "      <td>hawaiian_m</td>\n",
       "      <td>1</td>\n",
       "      <td>hawaiian</td>\n",
       "      <td>m</td>\n",
       "      <td>13.25</td>\n",
       "      <td>bacon</td>\n",
       "      <td>The Hawaiian Pizza</td>\n",
       "      <td>Classic</td>\n",
       "    </tr>\n",
       "    <tr>\n",
       "      <th>2</th>\n",
       "      <td>1</td>\n",
       "      <td>2015-01-01 11:38:36</td>\n",
       "      <td>1</td>\n",
       "      <td>hawaiian_m</td>\n",
       "      <td>1</td>\n",
       "      <td>hawaiian</td>\n",
       "      <td>m</td>\n",
       "      <td>13.25</td>\n",
       "      <td>wheat</td>\n",
       "      <td>The Hawaiian Pizza</td>\n",
       "      <td>Classic</td>\n",
       "    </tr>\n",
       "    <tr>\n",
       "      <th>3</th>\n",
       "      <td>1</td>\n",
       "      <td>2015-01-01 11:38:36</td>\n",
       "      <td>1</td>\n",
       "      <td>hawaiian_m</td>\n",
       "      <td>1</td>\n",
       "      <td>hawaiian</td>\n",
       "      <td>m</td>\n",
       "      <td>13.25</td>\n",
       "      <td>cheese</td>\n",
       "      <td>The Hawaiian Pizza</td>\n",
       "      <td>Classic</td>\n",
       "    </tr>\n",
       "    <tr>\n",
       "      <th>4</th>\n",
       "      <td>2</td>\n",
       "      <td>2015-01-01 11:57:40</td>\n",
       "      <td>2</td>\n",
       "      <td>classic_dlx_m</td>\n",
       "      <td>1</td>\n",
       "      <td>classic_dlx</td>\n",
       "      <td>m</td>\n",
       "      <td>16.00</td>\n",
       "      <td>bacon</td>\n",
       "      <td>The Classic Deluxe Pizza</td>\n",
       "      <td>Classic</td>\n",
       "    </tr>\n",
       "  </tbody>\n",
       "</table>\n",
       "</div>"
      ],
      "text/plain": [
       "   order_id          order_time  order_details_id       pizza_id  quantity  \\\n",
       "0         1 2015-01-01 11:38:36                 1     hawaiian_m         1   \n",
       "1         1 2015-01-01 11:38:36                 1     hawaiian_m         1   \n",
       "2         1 2015-01-01 11:38:36                 1     hawaiian_m         1   \n",
       "3         1 2015-01-01 11:38:36                 1     hawaiian_m         1   \n",
       "4         2 2015-01-01 11:57:40                 2  classic_dlx_m         1   \n",
       "\n",
       "  pizza_type_id size  price single_ingredients                      name  \\\n",
       "0      hawaiian    m  13.25          pineapple        The Hawaiian Pizza   \n",
       "1      hawaiian    m  13.25              bacon        The Hawaiian Pizza   \n",
       "2      hawaiian    m  13.25              wheat        The Hawaiian Pizza   \n",
       "3      hawaiian    m  13.25             cheese        The Hawaiian Pizza   \n",
       "4   classic_dlx    m  16.00              bacon  The Classic Deluxe Pizza   \n",
       "\n",
       "  category  \n",
       "0  Classic  \n",
       "1  Classic  \n",
       "2  Classic  \n",
       "3  Classic  \n",
       "4  Classic  "
      ]
     },
     "execution_count": 29,
     "metadata": {},
     "output_type": "execute_result"
    }
   ],
   "source": [
    "pizza_final.head()"
   ]
  },
  {
   "cell_type": "markdown",
   "metadata": {
    "heading_collapsed": true
   },
   "source": [
    "# Macros data"
   ]
  },
  {
   "cell_type": "code",
   "execution_count": 30,
   "metadata": {
    "ExecuteTime": {
     "end_time": "2022-12-13T23:38:22.921536Z",
     "start_time": "2022-12-13T23:38:22.905522Z"
    },
    "hidden": true
   },
   "outputs": [],
   "source": [
    "macro_df = pd.read_csv('high_protein_foods/macros_dataset.csv')"
   ]
  },
  {
   "cell_type": "code",
   "execution_count": 31,
   "metadata": {
    "ExecuteTime": {
     "end_time": "2022-12-13T23:38:22.945563Z",
     "start_time": "2022-12-13T23:38:22.921536Z"
    },
    "hidden": true
   },
   "outputs": [
    {
     "name": "stdout",
     "output_type": "stream",
     "text": [
      "<class 'pandas.core.frame.DataFrame'>\n",
      "RangeIndex: 60 entries, 0 to 59\n",
      "Data columns (total 8 columns):\n",
      " #   Column              Non-Null Count  Dtype  \n",
      "---  ------              --------------  -----  \n",
      " 0   food_name           60 non-null     object \n",
      " 1   proteins_100g       60 non-null     float64\n",
      " 2   carbohydrates_100g  60 non-null     float64\n",
      " 3   fat_100g            60 non-null     float64\n",
      " 4   energy_100g         60 non-null     float64\n",
      " 5   category_name       60 non-null     object \n",
      " 6   origin              60 non-null     object \n",
      " 7   diet_type           60 non-null     object \n",
      "dtypes: float64(4), object(4)\n",
      "memory usage: 3.9+ KB\n"
     ]
    }
   ],
   "source": [
    "macro_df.info()"
   ]
  },
  {
   "cell_type": "code",
   "execution_count": 32,
   "metadata": {
    "ExecuteTime": {
     "end_time": "2022-12-13T23:38:22.961544Z",
     "start_time": "2022-12-13T23:38:22.945563Z"
    },
    "hidden": true
   },
   "outputs": [],
   "source": [
    "# make food_name lower\n",
    "macro_df['food_name'] = macro_df['food_name'].str.lower()"
   ]
  },
  {
   "cell_type": "code",
   "execution_count": 33,
   "metadata": {
    "ExecuteTime": {
     "end_time": "2022-12-13T23:38:22.969570Z",
     "start_time": "2022-12-13T23:38:22.961544Z"
    },
    "hidden": true
   },
   "outputs": [],
   "source": [
    "new_pattern = 'wheat|pork|parmesan|feta|ricotta|cheddar'\n",
    "item_regex = re.compile(r\"{}|{}\".format(item_regex.pattern, new_pattern))\n"
   ]
  },
  {
   "cell_type": "code",
   "execution_count": 34,
   "metadata": {
    "ExecuteTime": {
     "end_time": "2022-12-13T23:38:22.985566Z",
     "start_time": "2022-12-13T23:38:22.969570Z"
    },
    "hidden": true
   },
   "outputs": [],
   "source": [
    "macro_df['food_name'] = macro_df['food_name'].apply(lambda x: item_regex.findall(x)).apply(lambda x: x[0] if len(x)!=0 else None)\n",
    "# remove all null entries\n",
    "macro_df = macro_df[~macro_df['food_name'].isnull()].reset_index(drop=True)"
   ]
  },
  {
   "cell_type": "code",
   "execution_count": 35,
   "metadata": {
    "ExecuteTime": {
     "end_time": "2022-12-13T23:38:22.993522Z",
     "start_time": "2022-12-13T23:38:22.985566Z"
    },
    "hidden": true
   },
   "outputs": [],
   "source": [
    "macro_df.drop(['origin', 'diet_type', 'category_name'], axis=1, inplace=True)"
   ]
  },
  {
   "cell_type": "code",
   "execution_count": 36,
   "metadata": {
    "ExecuteTime": {
     "end_time": "2022-12-13T23:38:23.009553Z",
     "start_time": "2022-12-13T23:38:22.993522Z"
    },
    "hidden": true
   },
   "outputs": [],
   "source": [
    "# all these are different kinds of Cheese.\n",
    "macro_df.loc[(macro_df['food_name'] == 'feta') \\\n",
    "             |(macro_df['food_name'] == 'parmesan') \\\n",
    "             |(macro_df['food_name'] == 'ricotta') \\\n",
    "             |(macro_df['food_name'] == 'cheddar'), ['food_name']] = 'cheese'"
   ]
  },
  {
   "cell_type": "code",
   "execution_count": 37,
   "metadata": {
    "ExecuteTime": {
     "end_time": "2022-12-13T23:38:23.025559Z",
     "start_time": "2022-12-13T23:38:23.009553Z"
    },
    "hidden": true
   },
   "outputs": [],
   "source": [
    "macro_df = macro_df.groupby('food_name')[['proteins_100g', 'carbohydrates_100g', 'fat_100g', 'energy_100g']].mean().reset_index()"
   ]
  },
  {
   "cell_type": "code",
   "execution_count": 38,
   "metadata": {
    "ExecuteTime": {
     "end_time": "2022-12-13T23:38:23.033523Z",
     "start_time": "2022-12-13T23:38:23.025559Z"
    },
    "hidden": true
   },
   "outputs": [],
   "source": [
    "macro_df.rename(columns={'proteins_100g':'protein', 'carbohydrates_100g': 'carb', 'fat_100g': 'fat', 'energy_100g': 'calories'}, inplace=True)"
   ]
  },
  {
   "cell_type": "code",
   "execution_count": 39,
   "metadata": {
    "ExecuteTime": {
     "end_time": "2022-12-13T23:38:23.049558Z",
     "start_time": "2022-12-13T23:38:23.033523Z"
    },
    "hidden": true
   },
   "outputs": [],
   "source": [
    "# rename pork to bacon\n",
    "macro_df.loc[macro_df['food_name'] == 'pork', 'food_name'] = 'bacon'"
   ]
  },
  {
   "cell_type": "code",
   "execution_count": 40,
   "metadata": {
    "ExecuteTime": {
     "end_time": "2022-12-13T23:38:23.065808Z",
     "start_time": "2022-12-13T23:38:23.049558Z"
    },
    "hidden": true
   },
   "outputs": [],
   "source": [
    "macro_df.rename(columns={'food_name':'ingredient'}, inplace=True)"
   ]
  },
  {
   "cell_type": "markdown",
   "metadata": {
    "heading_collapsed": true
   },
   "source": [
    "# Fruits data"
   ]
  },
  {
   "cell_type": "code",
   "execution_count": 41,
   "metadata": {
    "ExecuteTime": {
     "end_time": "2022-12-13T23:38:23.081565Z",
     "start_time": "2022-12-13T23:38:23.065808Z"
    },
    "hidden": true
   },
   "outputs": [],
   "source": [
    "fr_df = pd.read_csv('fruits_veg/fruits.csv')\n",
    "veg_df = pd.read_csv('fruits_veg/vegetables.csv')"
   ]
  },
  {
   "cell_type": "code",
   "execution_count": 42,
   "metadata": {
    "ExecuteTime": {
     "end_time": "2022-12-13T23:38:23.097524Z",
     "start_time": "2022-12-13T23:38:23.081565Z"
    },
    "hidden": true,
    "scrolled": false
   },
   "outputs": [
    {
     "name": "stdout",
     "output_type": "stream",
     "text": [
      "<class 'pandas.core.frame.DataFrame'>\n",
      "RangeIndex: 52 entries, 0 to 51\n",
      "Data columns (total 22 columns):\n",
      " #   Column             Non-Null Count  Dtype  \n",
      "---  ------             --------------  -----  \n",
      " 0   name               52 non-null     object \n",
      " 1   energy (kcal/kJ)   52 non-null     object \n",
      " 2   water (g)          52 non-null     float64\n",
      " 3   protein (g)        52 non-null     float64\n",
      " 4   total fat (g)      52 non-null     float64\n",
      " 5   carbohydrates (g)  52 non-null     float64\n",
      " 6   fiber (g)          52 non-null     object \n",
      " 7   sugars (g)         52 non-null     object \n",
      " 8   calcium (mg)       52 non-null     int64  \n",
      " 9   iron (mg)          52 non-null     float64\n",
      " 10  magnessium (mg)    52 non-null     object \n",
      " 11  phosphorus (mg)    52 non-null     int64  \n",
      " 12  potassium (mg)     52 non-null     object \n",
      " 13  sodium (g)         52 non-null     object \n",
      " 14  vitamin A (IU)     52 non-null     object \n",
      " 15  vitamin C (mg)     52 non-null     float64\n",
      " 16  vitamin B1 (mg)    52 non-null     object \n",
      " 17  vitamin B2 (mg)    52 non-null     object \n",
      " 18  viatmin B3 (mg)    52 non-null     object \n",
      " 19  vitamin B5 (mg)    52 non-null     object \n",
      " 20  vitamin B6 (mg)    52 non-null     object \n",
      " 21  vitamin E (mg)     52 non-null     object \n",
      "dtypes: float64(6), int64(2), object(14)\n",
      "memory usage: 9.1+ KB\n"
     ]
    }
   ],
   "source": [
    "fr_df.info()"
   ]
  },
  {
   "cell_type": "code",
   "execution_count": 43,
   "metadata": {
    "ExecuteTime": {
     "end_time": "2022-12-13T23:38:23.113522Z",
     "start_time": "2022-12-13T23:38:23.097524Z"
    },
    "hidden": true
   },
   "outputs": [],
   "source": [
    "# combine fruits and vegetable tables\n",
    "fr_df = pd.concat([fr_df, veg_df])"
   ]
  },
  {
   "cell_type": "code",
   "execution_count": 44,
   "metadata": {
    "ExecuteTime": {
     "end_time": "2022-12-13T23:38:23.129523Z",
     "start_time": "2022-12-13T23:38:23.113522Z"
    },
    "hidden": true
   },
   "outputs": [],
   "source": [
    "# Turn the name lower case\n",
    "fr_df['name'] = fr_df['name'].str.lower()"
   ]
  },
  {
   "cell_type": "code",
   "execution_count": 45,
   "metadata": {
    "ExecuteTime": {
     "end_time": "2022-12-13T23:38:23.145522Z",
     "start_time": "2022-12-13T23:38:23.129523Z"
    },
    "hidden": true
   },
   "outputs": [],
   "source": [
    "fr_df['name'] = fr_df['name'].apply(lambda x: item_regex.findall(x)).apply(lambda x: x[0] if len(x)!=0 else None)\n",
    "# remove all null entries\n",
    "fr_df = fr_df[~fr_df['name'].isnull()].reset_index(drop=True)"
   ]
  },
  {
   "cell_type": "code",
   "execution_count": 46,
   "metadata": {
    "ExecuteTime": {
     "end_time": "2022-12-13T23:38:23.153523Z",
     "start_time": "2022-12-13T23:38:23.145522Z"
    },
    "hidden": true
   },
   "outputs": [],
   "source": [
    "# drop useless columns\n",
    "fr_df.drop(columns = ['fiber (g)', 'sugars (g)', 'calcium (mg)', 'iron (mg)',\\\n",
    "                      'magnessium (mg)', 'phosphorus (mg)', 'sodium (g)', 'potassium (mg)', \\\n",
    "                      'vitamin A (IU)', 'water (g)', 'vitamin C (mg)', 'vitamin B1 (mg)',\\\n",
    "                      'vitamin B2 (mg)', 'viatmin B3 (mg)', 'vitamin B5 (mg)', 'vitamin B6 (mg)',\\\n",
    "                      'vitamin E (mg)' ], axis=1, inplace=True)"
   ]
  },
  {
   "cell_type": "code",
   "execution_count": 47,
   "metadata": {
    "ExecuteTime": {
     "end_time": "2022-12-13T23:38:23.169562Z",
     "start_time": "2022-12-13T23:38:23.153523Z"
    },
    "hidden": true
   },
   "outputs": [],
   "source": [
    "# extracting calories\n",
    "fr_df['calories'] = fr_df['energy (kcal/kJ)'].apply(lambda x: x[:x.index('/')])\n",
    "# fix data type\n",
    "fr_df['calories'] = fr_df['calories'].astype('int')"
   ]
  },
  {
   "cell_type": "code",
   "execution_count": 48,
   "metadata": {
    "ExecuteTime": {
     "end_time": "2022-12-13T23:38:23.185524Z",
     "start_time": "2022-12-13T23:38:23.169562Z"
    },
    "hidden": true
   },
   "outputs": [],
   "source": [
    "fr_df.drop('energy (kcal/kJ)', axis=1, inplace=True)"
   ]
  },
  {
   "cell_type": "code",
   "execution_count": 49,
   "metadata": {
    "ExecuteTime": {
     "end_time": "2022-12-13T23:38:23.201526Z",
     "start_time": "2022-12-13T23:38:23.185524Z"
    },
    "hidden": true
   },
   "outputs": [],
   "source": [
    "fr_df.rename(columns = {'name': 'ingredient', 'protein (g)':'protein', 'total fat (g)': 'fat', 'carbohydrates (g)': 'carb'}, inplace=True)"
   ]
  },
  {
   "cell_type": "code",
   "execution_count": 50,
   "metadata": {
    "ExecuteTime": {
     "end_time": "2022-12-13T23:38:23.217522Z",
     "start_time": "2022-12-13T23:38:23.201526Z"
    },
    "hidden": true
   },
   "outputs": [],
   "source": [
    "fr_df = fr_df.groupby('ingredient')[['protein', 'fat', 'carb', 'calories']].mean()\n",
    "fr_df.reset_index(inplace=True)"
   ]
  },
  {
   "cell_type": "code",
   "execution_count": 51,
   "metadata": {
    "ExecuteTime": {
     "end_time": "2022-12-13T23:38:23.225527Z",
     "start_time": "2022-12-13T23:38:23.217522Z"
    },
    "hidden": true
   },
   "outputs": [],
   "source": [
    "fr_df['calories'] = fr_df['calories'].apply(lambda x: np.round(x))"
   ]
  },
  {
   "cell_type": "code",
   "execution_count": 52,
   "metadata": {
    "ExecuteTime": {
     "end_time": "2022-12-13T23:38:23.241527Z",
     "start_time": "2022-12-13T23:38:23.225527Z"
    },
    "hidden": true
   },
   "outputs": [
    {
     "data": {
      "text/html": [
       "<div>\n",
       "<style scoped>\n",
       "    .dataframe tbody tr th:only-of-type {\n",
       "        vertical-align: middle;\n",
       "    }\n",
       "\n",
       "    .dataframe tbody tr th {\n",
       "        vertical-align: top;\n",
       "    }\n",
       "\n",
       "    .dataframe thead th {\n",
       "        text-align: right;\n",
       "    }\n",
       "</style>\n",
       "<table border=\"1\" class=\"dataframe\">\n",
       "  <thead>\n",
       "    <tr style=\"text-align: right;\">\n",
       "      <th></th>\n",
       "      <th>ingredient</th>\n",
       "      <th>protein</th>\n",
       "      <th>fat</th>\n",
       "      <th>carb</th>\n",
       "      <th>calories</th>\n",
       "    </tr>\n",
       "  </thead>\n",
       "  <tbody>\n",
       "    <tr>\n",
       "      <th>0</th>\n",
       "      <td>artichoke</td>\n",
       "      <td>2.890</td>\n",
       "      <td>0.3400</td>\n",
       "      <td>11.950000</td>\n",
       "      <td>53.0</td>\n",
       "    </tr>\n",
       "    <tr>\n",
       "      <th>1</th>\n",
       "      <td>corn</td>\n",
       "      <td>3.410</td>\n",
       "      <td>1.5000</td>\n",
       "      <td>20.980000</td>\n",
       "      <td>96.0</td>\n",
       "    </tr>\n",
       "    <tr>\n",
       "      <th>2</th>\n",
       "      <td>eggplant</td>\n",
       "      <td>0.920</td>\n",
       "      <td>0.2100</td>\n",
       "      <td>7.215000</td>\n",
       "      <td>30.0</td>\n",
       "    </tr>\n",
       "    <tr>\n",
       "      <th>3</th>\n",
       "      <td>garlic</td>\n",
       "      <td>6.360</td>\n",
       "      <td>0.5000</td>\n",
       "      <td>33.060000</td>\n",
       "      <td>149.0</td>\n",
       "    </tr>\n",
       "    <tr>\n",
       "      <th>4</th>\n",
       "      <td>onion</td>\n",
       "      <td>1.430</td>\n",
       "      <td>0.1600</td>\n",
       "      <td>8.943333</td>\n",
       "      <td>39.0</td>\n",
       "    </tr>\n",
       "    <tr>\n",
       "      <th>5</th>\n",
       "      <td>pear</td>\n",
       "      <td>0.380</td>\n",
       "      <td>0.1200</td>\n",
       "      <td>15.460000</td>\n",
       "      <td>58.0</td>\n",
       "    </tr>\n",
       "    <tr>\n",
       "      <th>6</th>\n",
       "      <td>pepper</td>\n",
       "      <td>0.938</td>\n",
       "      <td>0.2160</td>\n",
       "      <td>6.078000</td>\n",
       "      <td>27.0</td>\n",
       "    </tr>\n",
       "    <tr>\n",
       "      <th>7</th>\n",
       "      <td>pineapple</td>\n",
       "      <td>0.540</td>\n",
       "      <td>0.1200</td>\n",
       "      <td>13.120000</td>\n",
       "      <td>50.0</td>\n",
       "    </tr>\n",
       "    <tr>\n",
       "      <th>8</th>\n",
       "      <td>spinach</td>\n",
       "      <td>2.415</td>\n",
       "      <td>0.4975</td>\n",
       "      <td>3.377500</td>\n",
       "      <td>22.0</td>\n",
       "    </tr>\n",
       "    <tr>\n",
       "      <th>9</th>\n",
       "      <td>tomato</td>\n",
       "      <td>1.420</td>\n",
       "      <td>1.4400</td>\n",
       "      <td>8.470000</td>\n",
       "      <td>48.0</td>\n",
       "    </tr>\n",
       "    <tr>\n",
       "      <th>10</th>\n",
       "      <td>zucchini</td>\n",
       "      <td>1.175</td>\n",
       "      <td>0.3400</td>\n",
       "      <td>2.900000</td>\n",
       "      <td>16.0</td>\n",
       "    </tr>\n",
       "  </tbody>\n",
       "</table>\n",
       "</div>"
      ],
      "text/plain": [
       "   ingredient  protein     fat       carb  calories\n",
       "0   artichoke    2.890  0.3400  11.950000      53.0\n",
       "1        corn    3.410  1.5000  20.980000      96.0\n",
       "2    eggplant    0.920  0.2100   7.215000      30.0\n",
       "3      garlic    6.360  0.5000  33.060000     149.0\n",
       "4       onion    1.430  0.1600   8.943333      39.0\n",
       "5        pear    0.380  0.1200  15.460000      58.0\n",
       "6      pepper    0.938  0.2160   6.078000      27.0\n",
       "7   pineapple    0.540  0.1200  13.120000      50.0\n",
       "8     spinach    2.415  0.4975   3.377500      22.0\n",
       "9      tomato    1.420  1.4400   8.470000      48.0\n",
       "10   zucchini    1.175  0.3400   2.900000      16.0"
      ]
     },
     "execution_count": 52,
     "metadata": {},
     "output_type": "execute_result"
    }
   ],
   "source": [
    "# all values are for 100g of the food\n",
    "fr_df"
   ]
  },
  {
   "cell_type": "code",
   "execution_count": 53,
   "metadata": {
    "ExecuteTime": {
     "end_time": "2022-12-13T23:38:23.257523Z",
     "start_time": "2022-12-13T23:38:23.241527Z"
    },
    "hidden": true
   },
   "outputs": [],
   "source": [
    "# merging \n",
    "all_macros = pd.concat([fr_df, macro_df]).fillna(value=2)"
   ]
  },
  {
   "cell_type": "markdown",
   "metadata": {
    "heading_collapsed": true
   },
   "source": [
    "# merging pizza data with macro nutrient information"
   ]
  },
  {
   "cell_type": "code",
   "execution_count": 54,
   "metadata": {
    "ExecuteTime": {
     "end_time": "2022-12-13T23:38:23.273523Z",
     "start_time": "2022-12-13T23:38:23.257523Z"
    },
    "hidden": true
   },
   "outputs": [],
   "source": [
    "pizza_final.rename(columns={'single_ingredients':'ingredient'}, inplace=True)"
   ]
  },
  {
   "cell_type": "code",
   "execution_count": 55,
   "metadata": {
    "ExecuteTime": {
     "end_time": "2022-12-13T23:38:23.361541Z",
     "start_time": "2022-12-13T23:38:23.273523Z"
    },
    "hidden": true
   },
   "outputs": [],
   "source": [
    "pizza_nutrition_df = pizza_final.merge(all_macros, on='ingredient', how='left')"
   ]
  },
  {
   "cell_type": "code",
   "execution_count": 56,
   "metadata": {
    "ExecuteTime": {
     "end_time": "2022-12-13T23:38:23.441546Z",
     "start_time": "2022-12-13T23:38:23.361541Z"
    },
    "hidden": true
   },
   "outputs": [
    {
     "data": {
      "text/plain": [
       "order_id                0\n",
       "order_time              0\n",
       "order_details_id        0\n",
       "pizza_id                0\n",
       "quantity                0\n",
       "pizza_type_id           0\n",
       "size                    0\n",
       "price                   0\n",
       "ingredient              0\n",
       "name                    0\n",
       "category                0\n",
       "protein             37631\n",
       "fat                 37631\n",
       "carb                37631\n",
       "calories            37631\n",
       "dtype: int64"
      ]
     },
     "execution_count": 56,
     "metadata": {},
     "output_type": "execute_result"
    }
   ],
   "source": [
    "pizza_nutrition_df.isnull().sum()"
   ]
  },
  {
   "cell_type": "markdown",
   "metadata": {
    "hidden": true
   },
   "source": [
    "- All missing values for protein, fat, carbs is for 'other' ingredients.\n",
    "- \"other\" are comprised of garnish and spice leaves like thyme, cilantro, etc so they are not nutritionally dense\n",
    "- Therefore it is acceptable to impute them with the mininum of that respective column."
   ]
  },
  {
   "cell_type": "code",
   "execution_count": 57,
   "metadata": {
    "ExecuteTime": {
     "end_time": "2022-12-13T23:38:23.457562Z",
     "start_time": "2022-12-13T23:38:23.441546Z"
    },
    "hidden": true
   },
   "outputs": [],
   "source": [
    "# imputing each missing value with the minimum of that respective column\n",
    "pizza_nutrition_df['protein'].fillna(pizza_nutrition_df['protein'].min(), inplace=True)\n",
    "pizza_nutrition_df['fat'].fillna(pizza_nutrition_df['fat'].min(), inplace=True)\n",
    "pizza_nutrition_df['carb'].fillna(pizza_nutrition_df['carb'].min(), inplace=True)\n",
    "pizza_nutrition_df['calories'].fillna(pizza_nutrition_df['calories'].min(), inplace=True)"
   ]
  },
  {
   "cell_type": "markdown",
   "metadata": {
    "heading_collapsed": true
   },
   "source": [
    "# Preprocessing complete"
   ]
  },
  {
   "cell_type": "code",
   "execution_count": 58,
   "metadata": {
    "ExecuteTime": {
     "end_time": "2022-12-13T23:38:23.489565Z",
     "start_time": "2022-12-13T23:38:23.457562Z"
    },
    "hidden": true
   },
   "outputs": [
    {
     "data": {
      "text/html": [
       "<div>\n",
       "<style scoped>\n",
       "    .dataframe tbody tr th:only-of-type {\n",
       "        vertical-align: middle;\n",
       "    }\n",
       "\n",
       "    .dataframe tbody tr th {\n",
       "        vertical-align: top;\n",
       "    }\n",
       "\n",
       "    .dataframe thead th {\n",
       "        text-align: right;\n",
       "    }\n",
       "</style>\n",
       "<table border=\"1\" class=\"dataframe\">\n",
       "  <thead>\n",
       "    <tr style=\"text-align: right;\">\n",
       "      <th></th>\n",
       "      <th>order_id</th>\n",
       "      <th>order_time</th>\n",
       "      <th>order_details_id</th>\n",
       "      <th>pizza_id</th>\n",
       "      <th>quantity</th>\n",
       "      <th>pizza_type_id</th>\n",
       "      <th>size</th>\n",
       "      <th>price</th>\n",
       "      <th>ingredient</th>\n",
       "      <th>name</th>\n",
       "      <th>category</th>\n",
       "      <th>protein</th>\n",
       "      <th>fat</th>\n",
       "      <th>carb</th>\n",
       "      <th>calories</th>\n",
       "    </tr>\n",
       "  </thead>\n",
       "  <tbody>\n",
       "    <tr>\n",
       "      <th>0</th>\n",
       "      <td>1</td>\n",
       "      <td>2015-01-01 11:38:36</td>\n",
       "      <td>1</td>\n",
       "      <td>hawaiian_m</td>\n",
       "      <td>1</td>\n",
       "      <td>hawaiian</td>\n",
       "      <td>m</td>\n",
       "      <td>13.25</td>\n",
       "      <td>pineapple</td>\n",
       "      <td>The Hawaiian Pizza</td>\n",
       "      <td>Classic</td>\n",
       "      <td>0.54</td>\n",
       "      <td>0.120000</td>\n",
       "      <td>13.120000</td>\n",
       "      <td>50.0</td>\n",
       "    </tr>\n",
       "    <tr>\n",
       "      <th>1</th>\n",
       "      <td>1</td>\n",
       "      <td>2015-01-01 11:38:36</td>\n",
       "      <td>1</td>\n",
       "      <td>hawaiian_m</td>\n",
       "      <td>1</td>\n",
       "      <td>hawaiian</td>\n",
       "      <td>m</td>\n",
       "      <td>13.25</td>\n",
       "      <td>bacon</td>\n",
       "      <td>The Hawaiian Pizza</td>\n",
       "      <td>Classic</td>\n",
       "      <td>29.00</td>\n",
       "      <td>13.100000</td>\n",
       "      <td>0.000000</td>\n",
       "      <td>240.0</td>\n",
       "    </tr>\n",
       "    <tr>\n",
       "      <th>2</th>\n",
       "      <td>1</td>\n",
       "      <td>2015-01-01 11:38:36</td>\n",
       "      <td>1</td>\n",
       "      <td>hawaiian_m</td>\n",
       "      <td>1</td>\n",
       "      <td>hawaiian</td>\n",
       "      <td>m</td>\n",
       "      <td>13.25</td>\n",
       "      <td>wheat</td>\n",
       "      <td>The Hawaiian Pizza</td>\n",
       "      <td>Classic</td>\n",
       "      <td>23.20</td>\n",
       "      <td>9.700000</td>\n",
       "      <td>51.800000</td>\n",
       "      <td>360.0</td>\n",
       "    </tr>\n",
       "    <tr>\n",
       "      <th>3</th>\n",
       "      <td>1</td>\n",
       "      <td>2015-01-01 11:38:36</td>\n",
       "      <td>1</td>\n",
       "      <td>hawaiian_m</td>\n",
       "      <td>1</td>\n",
       "      <td>hawaiian</td>\n",
       "      <td>m</td>\n",
       "      <td>13.25</td>\n",
       "      <td>cheese</td>\n",
       "      <td>The Hawaiian Pizza</td>\n",
       "      <td>Classic</td>\n",
       "      <td>21.00</td>\n",
       "      <td>20.916667</td>\n",
       "      <td>3.283333</td>\n",
       "      <td>286.0</td>\n",
       "    </tr>\n",
       "    <tr>\n",
       "      <th>4</th>\n",
       "      <td>2</td>\n",
       "      <td>2015-01-01 11:57:40</td>\n",
       "      <td>2</td>\n",
       "      <td>classic_dlx_m</td>\n",
       "      <td>1</td>\n",
       "      <td>classic_dlx</td>\n",
       "      <td>m</td>\n",
       "      <td>16.00</td>\n",
       "      <td>bacon</td>\n",
       "      <td>The Classic Deluxe Pizza</td>\n",
       "      <td>Classic</td>\n",
       "      <td>29.00</td>\n",
       "      <td>13.100000</td>\n",
       "      <td>0.000000</td>\n",
       "      <td>240.0</td>\n",
       "    </tr>\n",
       "  </tbody>\n",
       "</table>\n",
       "</div>"
      ],
      "text/plain": [
       "   order_id          order_time  order_details_id       pizza_id  quantity  \\\n",
       "0         1 2015-01-01 11:38:36                 1     hawaiian_m         1   \n",
       "1         1 2015-01-01 11:38:36                 1     hawaiian_m         1   \n",
       "2         1 2015-01-01 11:38:36                 1     hawaiian_m         1   \n",
       "3         1 2015-01-01 11:38:36                 1     hawaiian_m         1   \n",
       "4         2 2015-01-01 11:57:40                 2  classic_dlx_m         1   \n",
       "\n",
       "  pizza_type_id size  price ingredient                      name category  \\\n",
       "0      hawaiian    m  13.25  pineapple        The Hawaiian Pizza  Classic   \n",
       "1      hawaiian    m  13.25      bacon        The Hawaiian Pizza  Classic   \n",
       "2      hawaiian    m  13.25      wheat        The Hawaiian Pizza  Classic   \n",
       "3      hawaiian    m  13.25     cheese        The Hawaiian Pizza  Classic   \n",
       "4   classic_dlx    m  16.00      bacon  The Classic Deluxe Pizza  Classic   \n",
       "\n",
       "   protein        fat       carb  calories  \n",
       "0     0.54   0.120000  13.120000      50.0  \n",
       "1    29.00  13.100000   0.000000     240.0  \n",
       "2    23.20   9.700000  51.800000     360.0  \n",
       "3    21.00  20.916667   3.283333     286.0  \n",
       "4    29.00  13.100000   0.000000     240.0  "
      ]
     },
     "execution_count": 58,
     "metadata": {},
     "output_type": "execute_result"
    }
   ],
   "source": [
    "pizza_nutrition_df.head()"
   ]
  },
  {
   "cell_type": "code",
   "execution_count": 59,
   "metadata": {
    "ExecuteTime": {
     "end_time": "2022-12-13T23:38:23.825832Z",
     "start_time": "2022-12-13T23:38:23.489565Z"
    },
    "hidden": true
   },
   "outputs": [],
   "source": [
    "nutrition_multipliers = {'s':0.5, 'm':1, 'l':1.5, 'xl':2, 'xxl':3}\n",
    "nutrients = ['protein', 'fat', 'carb','calories']\n",
    "for key in nutrition_multipliers.keys():\n",
    "    pizza_nutrition_df.loc[pizza_nutrition_df['size'] == key, nutrients] = pizza_nutrition_df.loc[pizza_nutrition_df['size'] == key, nutrients]* nutrition_multipliers[key]"
   ]
  },
  {
   "cell_type": "code",
   "execution_count": 60,
   "metadata": {
    "ExecuteTime": {
     "end_time": "2022-12-13T23:38:23.852534Z",
     "start_time": "2022-12-13T23:38:23.825832Z"
    },
    "hidden": true
   },
   "outputs": [
    {
     "data": {
      "text/html": [
       "<div>\n",
       "<style scoped>\n",
       "    .dataframe tbody tr th:only-of-type {\n",
       "        vertical-align: middle;\n",
       "    }\n",
       "\n",
       "    .dataframe tbody tr th {\n",
       "        vertical-align: top;\n",
       "    }\n",
       "\n",
       "    .dataframe thead th {\n",
       "        text-align: right;\n",
       "    }\n",
       "</style>\n",
       "<table border=\"1\" class=\"dataframe\">\n",
       "  <thead>\n",
       "    <tr style=\"text-align: right;\">\n",
       "      <th></th>\n",
       "      <th>order_id</th>\n",
       "      <th>order_time</th>\n",
       "      <th>order_details_id</th>\n",
       "      <th>pizza_id</th>\n",
       "      <th>quantity</th>\n",
       "      <th>pizza_type_id</th>\n",
       "      <th>size</th>\n",
       "      <th>price</th>\n",
       "      <th>ingredient</th>\n",
       "      <th>name</th>\n",
       "      <th>category</th>\n",
       "      <th>protein</th>\n",
       "      <th>fat</th>\n",
       "      <th>carb</th>\n",
       "      <th>calories</th>\n",
       "    </tr>\n",
       "  </thead>\n",
       "  <tbody>\n",
       "    <tr>\n",
       "      <th>0</th>\n",
       "      <td>1</td>\n",
       "      <td>2015-01-01 11:38:36</td>\n",
       "      <td>1</td>\n",
       "      <td>hawaiian_m</td>\n",
       "      <td>1</td>\n",
       "      <td>hawaiian</td>\n",
       "      <td>m</td>\n",
       "      <td>13.25</td>\n",
       "      <td>pineapple</td>\n",
       "      <td>The Hawaiian Pizza</td>\n",
       "      <td>Classic</td>\n",
       "      <td>0.54</td>\n",
       "      <td>0.120000</td>\n",
       "      <td>13.120000</td>\n",
       "      <td>50.0</td>\n",
       "    </tr>\n",
       "    <tr>\n",
       "      <th>1</th>\n",
       "      <td>1</td>\n",
       "      <td>2015-01-01 11:38:36</td>\n",
       "      <td>1</td>\n",
       "      <td>hawaiian_m</td>\n",
       "      <td>1</td>\n",
       "      <td>hawaiian</td>\n",
       "      <td>m</td>\n",
       "      <td>13.25</td>\n",
       "      <td>bacon</td>\n",
       "      <td>The Hawaiian Pizza</td>\n",
       "      <td>Classic</td>\n",
       "      <td>29.00</td>\n",
       "      <td>13.100000</td>\n",
       "      <td>0.000000</td>\n",
       "      <td>240.0</td>\n",
       "    </tr>\n",
       "    <tr>\n",
       "      <th>2</th>\n",
       "      <td>1</td>\n",
       "      <td>2015-01-01 11:38:36</td>\n",
       "      <td>1</td>\n",
       "      <td>hawaiian_m</td>\n",
       "      <td>1</td>\n",
       "      <td>hawaiian</td>\n",
       "      <td>m</td>\n",
       "      <td>13.25</td>\n",
       "      <td>wheat</td>\n",
       "      <td>The Hawaiian Pizza</td>\n",
       "      <td>Classic</td>\n",
       "      <td>23.20</td>\n",
       "      <td>9.700000</td>\n",
       "      <td>51.800000</td>\n",
       "      <td>360.0</td>\n",
       "    </tr>\n",
       "    <tr>\n",
       "      <th>3</th>\n",
       "      <td>1</td>\n",
       "      <td>2015-01-01 11:38:36</td>\n",
       "      <td>1</td>\n",
       "      <td>hawaiian_m</td>\n",
       "      <td>1</td>\n",
       "      <td>hawaiian</td>\n",
       "      <td>m</td>\n",
       "      <td>13.25</td>\n",
       "      <td>cheese</td>\n",
       "      <td>The Hawaiian Pizza</td>\n",
       "      <td>Classic</td>\n",
       "      <td>21.00</td>\n",
       "      <td>20.916667</td>\n",
       "      <td>3.283333</td>\n",
       "      <td>286.0</td>\n",
       "    </tr>\n",
       "    <tr>\n",
       "      <th>4</th>\n",
       "      <td>2</td>\n",
       "      <td>2015-01-01 11:57:40</td>\n",
       "      <td>2</td>\n",
       "      <td>classic_dlx_m</td>\n",
       "      <td>1</td>\n",
       "      <td>classic_dlx</td>\n",
       "      <td>m</td>\n",
       "      <td>16.00</td>\n",
       "      <td>bacon</td>\n",
       "      <td>The Classic Deluxe Pizza</td>\n",
       "      <td>Classic</td>\n",
       "      <td>29.00</td>\n",
       "      <td>13.100000</td>\n",
       "      <td>0.000000</td>\n",
       "      <td>240.0</td>\n",
       "    </tr>\n",
       "  </tbody>\n",
       "</table>\n",
       "</div>"
      ],
      "text/plain": [
       "   order_id          order_time  order_details_id       pizza_id  quantity  \\\n",
       "0         1 2015-01-01 11:38:36                 1     hawaiian_m         1   \n",
       "1         1 2015-01-01 11:38:36                 1     hawaiian_m         1   \n",
       "2         1 2015-01-01 11:38:36                 1     hawaiian_m         1   \n",
       "3         1 2015-01-01 11:38:36                 1     hawaiian_m         1   \n",
       "4         2 2015-01-01 11:57:40                 2  classic_dlx_m         1   \n",
       "\n",
       "  pizza_type_id size  price ingredient                      name category  \\\n",
       "0      hawaiian    m  13.25  pineapple        The Hawaiian Pizza  Classic   \n",
       "1      hawaiian    m  13.25      bacon        The Hawaiian Pizza  Classic   \n",
       "2      hawaiian    m  13.25      wheat        The Hawaiian Pizza  Classic   \n",
       "3      hawaiian    m  13.25     cheese        The Hawaiian Pizza  Classic   \n",
       "4   classic_dlx    m  16.00      bacon  The Classic Deluxe Pizza  Classic   \n",
       "\n",
       "   protein        fat       carb  calories  \n",
       "0     0.54   0.120000  13.120000      50.0  \n",
       "1    29.00  13.100000   0.000000     240.0  \n",
       "2    23.20   9.700000  51.800000     360.0  \n",
       "3    21.00  20.916667   3.283333     286.0  \n",
       "4    29.00  13.100000   0.000000     240.0  "
      ]
     },
     "execution_count": 60,
     "metadata": {},
     "output_type": "execute_result"
    }
   ],
   "source": [
    "pizza_nutrition_df.head()"
   ]
  },
  {
   "cell_type": "code",
   "execution_count": 61,
   "metadata": {
    "ExecuteTime": {
     "end_time": "2022-12-13T23:38:24.172653Z",
     "start_time": "2022-12-13T23:38:23.852534Z"
    },
    "hidden": true
   },
   "outputs": [],
   "source": [
    "\n",
    "req_cols = nutrients + ['pizza_id', 'size']\n",
    "\n",
    "# calculate % weight of macro nutrients\n",
    "per_pizza_nutrition_df = pizza_nutrition_df.groupby('order_details_id')[req_cols].sum()\n",
    "per_pizza_nutrition_df.reset_index(inplace=True)\n",
    "\n",
    "\n",
    "# get nutrition value for each pizza ordered in the dataset\n",
    "per_pizza_nutrition_df = per_pizza_nutrition_df.merge(pizza_nutrition_df[['order_details_id', 'size', 'name', 'pizza_id', 'order_time', 'price', 'category']], how='left', on='order_details_id')\n",
    "per_pizza_nutrition_df.drop_duplicates(inplace=True)"
   ]
  },
  {
   "cell_type": "markdown",
   "metadata": {
    "hidden": true
   },
   "source": [
    "### Calculating percentage weight of macro nutrients"
   ]
  },
  {
   "cell_type": "code",
   "execution_count": 62,
   "metadata": {
    "ExecuteTime": {
     "end_time": "2022-12-13T23:38:24.201395Z",
     "start_time": "2022-12-13T23:38:24.172653Z"
    },
    "hidden": true
   },
   "outputs": [],
   "source": [
    "# total weight of pizza\n",
    "per_pizza_nutrition_df['weight'] = per_pizza_nutrition_df['carb'] + per_pizza_nutrition_df['protein'] + per_pizza_nutrition_df['fat']"
   ]
  },
  {
   "cell_type": "code",
   "execution_count": 63,
   "metadata": {
    "ExecuteTime": {
     "end_time": "2022-12-13T23:38:24.225431Z",
     "start_time": "2022-12-13T23:38:24.201395Z"
    },
    "hidden": true
   },
   "outputs": [],
   "source": [
    "# percentage weight of macro nutrients\n",
    "per_pizza_nutrition_df['carb_%'] = (per_pizza_nutrition_df['carb']/per_pizza_nutrition_df['weight'])*100\n",
    "per_pizza_nutrition_df['protein_%'] = (per_pizza_nutrition_df['protein']/per_pizza_nutrition_df['weight'])*100\n",
    "per_pizza_nutrition_df['fat_%'] = (per_pizza_nutrition_df['fat']/per_pizza_nutrition_df['weight'])*100\n"
   ]
  },
  {
   "cell_type": "markdown",
   "metadata": {},
   "source": [
    "# Pair plot of numeric columns"
   ]
  },
  {
   "cell_type": "code",
   "execution_count": 64,
   "metadata": {
    "ExecuteTime": {
     "end_time": "2022-12-13T23:38:31.791528Z",
     "start_time": "2022-12-13T23:38:24.225431Z"
    }
   },
   "outputs": [
    {
     "data": {
      "image/png": "[encoded data removed]",
      "text/plain": [
       "<Figure size 1080x1080 with 42 Axes>"
      ]
     },
     "metadata": {
      "needs_background": "light"
     },
     "output_type": "display_data"
    }
   ],
   "source": [
    "sns.pairplot(per_pizza_nutrition_df[['protein', 'fat', 'carb', 'calories', 'price', 'weight']])\n",
    "plt.show()"
   ]
  },
  {
   "cell_type": "markdown",
   "metadata": {},
   "source": [
    "# Distribution of protein for each pizza"
   ]
  },
  {
   "cell_type": "code",
   "execution_count": 65,
   "metadata": {
    "ExecuteTime": {
     "end_time": "2022-12-13T23:38:31.945290Z",
     "start_time": "2022-12-13T23:38:31.791528Z"
    }
   },
   "outputs": [
    {
     "data": {
      "image/png": "[encoded data removed]",
      "text/plain": [
       "<Figure size 720x576 with 1 Axes>"
      ]
     },
     "metadata": {
      "needs_background": "light"
     },
     "output_type": "display_data"
    }
   ],
   "source": [
    "fig, ax = plt.subplots(figsize=(10, 8))\n",
    "plt.title('Distribution of protein for each pizza')\n",
    "plt.xlabel('Protein in grams')\n",
    "plt.ylabel('count')\n",
    "plt.hist(per_pizza_nutrition_df['protein'])\n",
    "plt.show()"
   ]
  },
  {
   "cell_type": "markdown",
   "metadata": {
    "heading_collapsed": true
   },
   "source": [
    "# Distribution of carbs for each pizza"
   ]
  },
  {
   "cell_type": "code",
   "execution_count": 66,
   "metadata": {
    "ExecuteTime": {
     "end_time": "2022-12-13T23:38:32.118209Z",
     "start_time": "2022-12-13T23:38:31.945290Z"
    },
    "hidden": true
   },
   "outputs": [
    {
     "data": {
      "image/png": "[encoded data removed]",
      "text/plain": [
       "<Figure size 720x576 with 1 Axes>"
      ]
     },
     "metadata": {
      "needs_background": "light"
     },
     "output_type": "display_data"
    }
   ],
   "source": [
    "fig, ax = plt.subplots(figsize=(10, 8))\n",
    "\n",
    "plt.title('Distribution of carbs for each pizza')\n",
    "plt.xlabel('carbs in grams')\n",
    "plt.ylabel('count')\n",
    "plt.hist(per_pizza_nutrition_df['carb'])\n",
    "plt.show()"
   ]
  },
  {
   "cell_type": "markdown",
   "metadata": {
    "heading_collapsed": true
   },
   "source": [
    "# Distribution of calories for each pizza"
   ]
  },
  {
   "cell_type": "code",
   "execution_count": 67,
   "metadata": {
    "ExecuteTime": {
     "end_time": "2022-12-13T23:38:32.258459Z",
     "start_time": "2022-12-13T23:38:32.118209Z"
    },
    "hidden": true
   },
   "outputs": [
    {
     "data": {
      "image/png": "[encoded data removed]",
      "text/plain": [
       "<Figure size 720x576 with 1 Axes>"
      ]
     },
     "metadata": {
      "needs_background": "light"
     },
     "output_type": "display_data"
    }
   ],
   "source": [
    "fig, ax = plt.subplots(figsize=(10, 8))\n",
    "plt.title('Distribution of calories for each pizza')\n",
    "plt.xlabel('calories')\n",
    "plt.ylabel('count')\n",
    "plt.hist(per_pizza_nutrition_df['calories'])\n",
    "plt.show()"
   ]
  },
  {
   "cell_type": "markdown",
   "metadata": {
    "heading_collapsed": true
   },
   "source": [
    "# Top 10 Best Selling Pizzas"
   ]
  },
  {
   "cell_type": "code",
   "execution_count": 68,
   "metadata": {
    "ExecuteTime": {
     "end_time": "2022-12-13T23:38:32.444288Z",
     "start_time": "2022-12-13T23:38:32.258459Z"
    },
    "hidden": true
   },
   "outputs": [
    {
     "data": {
      "image/png": "[encoded data removed]",
      "text/plain": [
       "<Figure size 720x576 with 1 Axes>"
      ]
     },
     "metadata": {
      "needs_background": "light"
     },
     "output_type": "display_data"
    }
   ],
   "source": [
    "fig, ax = plt.subplots(figsize=(10, 8))\n",
    "most_selling_pizzas = pd.DataFrame(per_pizza_nutrition_df['name'].value_counts()[:10]).reset_index()\n",
    "\n",
    "sns.barplot(data=most_selling_pizzas, x='index', y='name')\n",
    "plt.xticks(rotation=90)\n",
    "plt.xlabel('Pizza ID')\n",
    "plt.ylabel('Count')\n",
    "plt.title(\"Top 10 best selling pizzas\")\n",
    "plt.show()"
   ]
  },
  {
   "cell_type": "code",
   "execution_count": 69,
   "metadata": {
    "ExecuteTime": {
     "end_time": "2022-12-13T23:38:32.495279Z",
     "start_time": "2022-12-13T23:38:32.444288Z"
    },
    "hidden": true,
    "scrolled": false
   },
   "outputs": [
    {
     "data": {
      "text/html": [
       "<div>\n",
       "<style scoped>\n",
       "    .dataframe tbody tr th:only-of-type {\n",
       "        vertical-align: middle;\n",
       "    }\n",
       "\n",
       "    .dataframe tbody tr th {\n",
       "        vertical-align: top;\n",
       "    }\n",
       "\n",
       "    .dataframe thead th {\n",
       "        text-align: right;\n",
       "    }\n",
       "</style>\n",
       "<table border=\"1\" class=\"dataframe\">\n",
       "  <thead>\n",
       "    <tr style=\"text-align: right;\">\n",
       "      <th></th>\n",
       "      <th>order_details_id</th>\n",
       "      <th>protein</th>\n",
       "      <th>fat</th>\n",
       "      <th>carb</th>\n",
       "      <th>calories</th>\n",
       "      <th>size</th>\n",
       "      <th>name</th>\n",
       "      <th>pizza_id</th>\n",
       "      <th>order_time</th>\n",
       "      <th>price</th>\n",
       "      <th>category</th>\n",
       "      <th>weight</th>\n",
       "      <th>carb_%</th>\n",
       "      <th>protein_%</th>\n",
       "      <th>fat_%</th>\n",
       "      <th>Pizza_Type</th>\n",
       "    </tr>\n",
       "  </thead>\n",
       "  <tbody>\n",
       "    <tr>\n",
       "      <th>0</th>\n",
       "      <td>1</td>\n",
       "      <td>73.740</td>\n",
       "      <td>43.836667</td>\n",
       "      <td>68.203333</td>\n",
       "      <td>936.0</td>\n",
       "      <td>m</td>\n",
       "      <td>The Hawaiian Pizza</td>\n",
       "      <td>hawaiian_m</td>\n",
       "      <td>2015-01-01 11:38:36</td>\n",
       "      <td>13.25</td>\n",
       "      <td>Classic</td>\n",
       "      <td>185.780000</td>\n",
       "      <td>36.711881</td>\n",
       "      <td>39.692109</td>\n",
       "      <td>23.596010</td>\n",
       "      <td>Non-Veg</td>\n",
       "    </tr>\n",
       "    <tr>\n",
       "      <th>4</th>\n",
       "      <td>2</td>\n",
       "      <td>54.948</td>\n",
       "      <td>23.296000</td>\n",
       "      <td>66.821333</td>\n",
       "      <td>682.0</td>\n",
       "      <td>m</td>\n",
       "      <td>The Classic Deluxe Pizza</td>\n",
       "      <td>classic_dlx_m</td>\n",
       "      <td>2015-01-01 11:57:40</td>\n",
       "      <td>16.00</td>\n",
       "      <td>Classic</td>\n",
       "      <td>145.065333</td>\n",
       "      <td>46.062923</td>\n",
       "      <td>37.878105</td>\n",
       "      <td>16.058971</td>\n",
       "      <td>Non-Veg</td>\n",
       "    </tr>\n",
       "    <tr>\n",
       "      <th>9</th>\n",
       "      <td>3</td>\n",
       "      <td>75.840</td>\n",
       "      <td>46.675000</td>\n",
       "      <td>132.215000</td>\n",
       "      <td>1192.5</td>\n",
       "      <td>l</td>\n",
       "      <td>The Five Cheese Pizza</td>\n",
       "      <td>five_cheese_l</td>\n",
       "      <td>2015-01-01 11:57:40</td>\n",
       "      <td>18.50</td>\n",
       "      <td>Veggie</td>\n",
       "      <td>254.730000</td>\n",
       "      <td>51.903977</td>\n",
       "      <td>29.772701</td>\n",
       "      <td>18.323323</td>\n",
       "      <td>Veg</td>\n",
       "    </tr>\n",
       "    <tr>\n",
       "      <th>12</th>\n",
       "      <td>4</td>\n",
       "      <td>136.185</td>\n",
       "      <td>57.180000</td>\n",
       "      <td>153.410000</td>\n",
       "      <td>1638.0</td>\n",
       "      <td>l</td>\n",
       "      <td>The Italian Supreme Pizza</td>\n",
       "      <td>ital_supr_l</td>\n",
       "      <td>2015-01-01 11:57:40</td>\n",
       "      <td>20.75</td>\n",
       "      <td>Supreme</td>\n",
       "      <td>346.775000</td>\n",
       "      <td>44.239060</td>\n",
       "      <td>39.271862</td>\n",
       "      <td>16.489078</td>\n",
       "      <td>Non-Veg</td>\n",
       "    </tr>\n",
       "    <tr>\n",
       "      <th>19</th>\n",
       "      <td>5</td>\n",
       "      <td>37.518</td>\n",
       "      <td>13.756000</td>\n",
       "      <td>129.331333</td>\n",
       "      <td>751.0</td>\n",
       "      <td>m</td>\n",
       "      <td>The Mexicana Pizza</td>\n",
       "      <td>mexicana_m</td>\n",
       "      <td>2015-01-01 11:57:40</td>\n",
       "      <td>16.00</td>\n",
       "      <td>Veggie</td>\n",
       "      <td>180.605333</td>\n",
       "      <td>71.609919</td>\n",
       "      <td>20.773473</td>\n",
       "      <td>7.616608</td>\n",
       "      <td>Veg</td>\n",
       "    </tr>\n",
       "  </tbody>\n",
       "</table>\n",
       "</div>"
      ],
      "text/plain": [
       "    order_details_id  protein        fat        carb  calories size  \\\n",
       "0                  1   73.740  43.836667   68.203333     936.0    m   \n",
       "4                  2   54.948  23.296000   66.821333     682.0    m   \n",
       "9                  3   75.840  46.675000  132.215000    1192.5    l   \n",
       "12                 4  136.185  57.180000  153.410000    1638.0    l   \n",
       "19                 5   37.518  13.756000  129.331333     751.0    m   \n",
       "\n",
       "                         name       pizza_id          order_time  price  \\\n",
       "0          The Hawaiian Pizza     hawaiian_m 2015-01-01 11:38:36  13.25   \n",
       "4    The Classic Deluxe Pizza  classic_dlx_m 2015-01-01 11:57:40  16.00   \n",
       "9       The Five Cheese Pizza  five_cheese_l 2015-01-01 11:57:40  18.50   \n",
       "12  The Italian Supreme Pizza    ital_supr_l 2015-01-01 11:57:40  20.75   \n",
       "19         The Mexicana Pizza     mexicana_m 2015-01-01 11:57:40  16.00   \n",
       "\n",
       "   category      weight     carb_%  protein_%      fat_% Pizza_Type  \n",
       "0   Classic  185.780000  36.711881  39.692109  23.596010    Non-Veg  \n",
       "4   Classic  145.065333  46.062923  37.878105  16.058971    Non-Veg  \n",
       "9    Veggie  254.730000  51.903977  29.772701  18.323323        Veg  \n",
       "12  Supreme  346.775000  44.239060  39.271862  16.489078    Non-Veg  \n",
       "19   Veggie  180.605333  71.609919  20.773473   7.616608        Veg  "
      ]
     },
     "execution_count": 69,
     "metadata": {},
     "output_type": "execute_result"
    }
   ],
   "source": [
    "# Classifying pizzas as vegetatirian and non-vegetarian\n",
    "veg_pizzas =['five_cheese','four_cheese','green_garden','ital_veggie','mediterraneo','mexicana','spin_pesto','spinach_fet','veggie_veg']\n",
    "\n",
    "per_pizza_nutrition_df.loc[per_pizza_nutrition_df['pizza_id'].str[:-2].isin(veg_pizzas), ['Pizza_Type']] = 'Veg'\n",
    "per_pizza_nutrition_df['Pizza_Type'].fillna('Non-Veg',inplace=True)\n",
    "per_pizza_nutrition_df.head()"
   ]
  },
  {
   "cell_type": "markdown",
   "metadata": {
    "heading_collapsed": true
   },
   "source": [
    "# which pizzas generate more venenue non-veg or veg"
   ]
  },
  {
   "cell_type": "code",
   "execution_count": 70,
   "metadata": {
    "ExecuteTime": {
     "end_time": "2022-12-13T23:38:32.623584Z",
     "start_time": "2022-12-13T23:38:32.495279Z"
    },
    "hidden": true
   },
   "outputs": [
    {
     "data": {
      "image/png": "[encoded data removed]",
      "text/plain": [
       "<Figure size 576x576 with 1 Axes>"
      ]
     },
     "metadata": {
      "needs_background": "light"
     },
     "output_type": "display_data"
    }
   ],
   "source": [
    "plt.figure(figsize=(8, 8))\n",
    "plt.title('Veg Vs Non-Veg Revenue Generation')\n",
    "veg_vs_nv_reveue = per_pizza_nutrition_df.groupby('Pizza_Type')['price'].sum()\n",
    "veg_vs_nv_reveue = veg_vs_nv_reveue.reset_index()\n",
    "sns.barplot(data=veg_vs_nv_reveue, x='Pizza_Type', y='price')\n",
    "plt.show()"
   ]
  },
  {
   "cell_type": "markdown",
   "metadata": {
    "heading_collapsed": true
   },
   "source": [
    "# Average percentage of protein a pizza contains(Veg&Non-Veg)"
   ]
  },
  {
   "cell_type": "code",
   "execution_count": 71,
   "metadata": {
    "ExecuteTime": {
     "end_time": "2022-12-13T23:38:33.209267Z",
     "start_time": "2022-12-13T23:38:32.623584Z"
    },
    "hidden": true
   },
   "outputs": [
    {
     "data": {
      "image/png": "[encoded data removed]",
      "text/plain": [
       "<Figure size 1440x720 with 2 Axes>"
      ]
     },
     "metadata": {
      "needs_background": "light"
     },
     "output_type": "display_data"
    }
   ],
   "source": [
    "fig, (ax1, ax2) = plt.subplots(2, 1, figsize=(20, 10), sharey=True)\n",
    "veg_df = per_pizza_nutrition_df[per_pizza_nutrition_df['Pizza_Type']=='Veg']\n",
    "veg_protein_mean =veg_df.groupby(veg_df['pizza_id'].str[:-2])['protein_%'].mean()\n",
    "veg_protein_mean = veg_protein_mean.reset_index().sort_values(by=['protein_%'],ascending=False)\n",
    "\n",
    "non_veg_df = per_pizza_nutrition_df[per_pizza_nutrition_df['Pizza_Type']=='Non-Veg']\n",
    "non_veg_protein_mean =non_veg_df.groupby(non_veg_df['pizza_id'].str[:-2])['protein_%'].mean()\n",
    "non_veg_protein_mean = non_veg_protein_mean.reset_index().sort_values(by=['protein_%'],ascending=False)\n",
    "sns.barplot(data=veg_protein_mean,x='pizza_id',y='protein_%', ax=ax1)\n",
    "sns.barplot(data=non_veg_protein_mean,x='pizza_id',y='protein_%', ax=ax2)\n",
    "\n",
    "ax1.set_title('Average percentage of protein in each veg pizza',fontsize=15)\n",
    "ax1.set_xlabel('Pizza ID',fontsize=15)\n",
    "ax1.set_ylabel('Protein %',fontsize=15)\n",
    "\n",
    "\n",
    "\n",
    "ax2.set_title('Average percentage of protein in each non-veg pizza',fontsize=15)\n",
    "ax2.set_xlabel('Pizza ID',fontsize=15)\n",
    "ax2.set_ylabel('Protein %',fontsize=15)\n",
    "plt.xticks(rotation=90)\n",
    "plt.show()"
   ]
  },
  {
   "cell_type": "markdown",
   "metadata": {
    "heading_collapsed": true
   },
   "source": [
    "# Pizzas with least revenue"
   ]
  },
  {
   "cell_type": "code",
   "execution_count": 72,
   "metadata": {
    "ExecuteTime": {
     "end_time": "2022-12-13T23:38:33.342141Z",
     "start_time": "2022-12-13T23:38:33.209267Z"
    },
    "hidden": true
   },
   "outputs": [
    {
     "data": {
      "image/png": "[encoded data removed]",
      "text/plain": [
       "<Figure size 720x576 with 1 Axes>"
      ]
     },
     "metadata": {
      "needs_background": "light"
     },
     "output_type": "display_data"
    }
   ],
   "source": [
    "                                       \n",
    "fig, ax = plt.subplots(figsize=(10, 8))\n",
    "least_selling_pizzas = pd.DataFrame(per_pizza_nutrition_df['name'].value_counts()[-5:]).reset_index()\n",
    "\n",
    "sns.barplot(data=least_selling_pizzas.sort_values(by=['name'],ascending=True), x='index', y='name')\n",
    "plt.xticks(rotation=90)\n",
    "plt.xlabel('Pizza ID')\n",
    "plt.ylabel('Count')\n",
    "plt.title(\"5 Least selling pizzas\")\n",
    "plt.show()"
   ]
  },
  {
   "cell_type": "markdown",
   "metadata": {},
   "source": [
    "# Protein to Carbohydrate Ratio of Pizzas"
   ]
  },
  {
   "cell_type": "code",
   "execution_count": 73,
   "metadata": {
    "ExecuteTime": {
     "end_time": "2022-12-13T23:38:35.013378Z",
     "start_time": "2022-12-13T23:38:33.342141Z"
    }
   },
   "outputs": [
    {
     "data": {
      "image/png": "[encoded data removed]",
      "text/plain": [
       "<Figure size 1296x576 with 1 Axes>"
      ]
     },
     "metadata": {
      "needs_background": "light"
     },
     "output_type": "display_data"
    }
   ],
   "source": [
    "# Calculating carb to protein ratio\n",
    "per_pizza_nutrition_df['protein_carb_ratio'] = per_pizza_nutrition_df['protein']/per_pizza_nutrition_df['carb']\n",
    "per_pizza_nutrition_df.sort_values(by='protein_carb_ratio', ascending=False, inplace=True)\n",
    "fig, ax = plt.subplots(figsize=(18, 8))\n",
    "sns.barplot(data=per_pizza_nutrition_df, x='name', y='protein_carb_ratio', hue='Pizza_Type')\n",
    "ax.set_title('protein/carb ratio for each pizza')\n",
    "ax.set_xlabel('Pizza_id')\n",
    "ax.set_ylabel('Protein to Carb ratio')\n",
    "plt.xticks(rotation=90)\n",
    "plt.show()"
   ]
  },
  {
   "cell_type": "markdown",
   "metadata": {},
   "source": [
    "### Pizzas (veg/non-veg) at different times of the day"
   ]
  },
  {
   "cell_type": "code",
   "execution_count": 75,
   "metadata": {
    "ExecuteTime": {
     "end_time": "2022-12-13T23:38:35.345314Z",
     "start_time": "2022-12-13T23:38:35.062265Z"
    }
   },
   "outputs": [
    {
     "data": {
      "image/png": "[encoded data removed]",
      "text/plain": [
       "<Figure size 720x576 with 1 Axes>"
      ]
     },
     "metadata": {
      "needs_background": "light"
     },
     "output_type": "display_data"
    }
   ],
   "source": [
    "plt.figure(figsize=(10, 8))\n",
    "plt.title(\"Pizzas (veg/non-veg) at different times of the day\")\n",
    "pizza_type_hour = per_pizza_nutrition_df.groupby([per_pizza_nutrition_df['order_time'].dt.hour, 'Pizza_Type'])['pizza_id'].count().reset_index()\n",
    "sns.barplot(data = pizza_type_hour, x='order_time', y='pizza_id', hue='Pizza_Type')\n",
    "plt.show()"
   ]
  },
  {
   "cell_type": "code",
   "execution_count": 76,
   "metadata": {
    "ExecuteTime": {
     "end_time": "2022-12-13T23:38:35.361355Z",
     "start_time": "2022-12-13T23:38:35.345314Z"
    }
   },
   "outputs": [],
   "source": [
    "per_pizza_nutrition_df['fat_to_carb_ratio'] = per_pizza_nutrition_df['fat']/per_pizza_nutrition_df['carb']"
   ]
  },
  {
   "cell_type": "code",
   "execution_count": 77,
   "metadata": {
    "ExecuteTime": {
     "end_time": "2022-12-13T23:38:35.385356Z",
     "start_time": "2022-12-13T23:38:35.361355Z"
    }
   },
   "outputs": [
    {
     "name": "stdout",
     "output_type": "stream",
     "text": [
      "Pearsons correlation: -0.208\n",
      "spearman_corr: -0.199\n"
     ]
    }
   ],
   "source": [
    "from numpy import cov\n",
    "from scipy.stats import pearsonr\n",
    "from scipy.stats import spearmanr\n",
    "\n",
    "covariance = cov(per_pizza_nutrition_df['fat_to_carb_ratio'], per_pizza_nutrition_df['price'])\n",
    "\n",
    "corr, _ = pearsonr(per_pizza_nutrition_df['fat_to_carb_ratio'], per_pizza_nutrition_df['price'])\n",
    "print('Pearsons correlation: %.3f' % corr)\n",
    "spearman_corr, _ = spearmanr(per_pizza_nutrition_df['fat_to_carb_ratio'], per_pizza_nutrition_df['price'])\n",
    "print('spearman_corr: %.3f' % spearman_corr)"
   ]
  },
  {
   "cell_type": "markdown",
   "metadata": {},
   "source": [
    "### There is a weak negative correlation between fat/carb ration and price"
   ]
  },
  {
   "cell_type": "markdown",
   "metadata": {
    "heading_collapsed": true
   },
   "source": [
    "# Healthy pizzas\n",
    "\n",
    "### A healthy diet consists of 45-65% carbohydrates, 20-35% fat and 10-35% protein"
   ]
  },
  {
   "cell_type": "code",
   "execution_count": 91,
   "metadata": {
    "ExecuteTime": {
     "end_time": "2022-12-13T23:47:03.005677Z",
     "start_time": "2022-12-13T23:47:02.987266Z"
    },
    "hidden": true
   },
   "outputs": [
    {
     "data": {
      "text/plain": [
       "'The Green Garden Pizza'"
      ]
     },
     "execution_count": 91,
     "metadata": {},
     "output_type": "execute_result"
    }
   ],
   "source": [
    "per_pizza_nutrition_df['healthy'] = 0\n",
    "\n",
    "healthy_pizzas = per_pizza_nutrition_df[(per_pizza_nutrition_df['protein_%'] >= 10) & \\\n",
    "                       (per_pizza_nutrition_df['protein_%'] < 35) & \\\n",
    "                       (per_pizza_nutrition_df['fat_%'] >= 20) & \\\n",
    "                       (per_pizza_nutrition_df['fat_%'] < 35) & \\\n",
    "                       (per_pizza_nutrition_df['carb_%'] >= 45) & \\\n",
    "                       (per_pizza_nutrition_df['carb_%'] < 65)].index\n",
    "\n",
    "\n",
    "# healthy pizzas\n",
    "per_pizza_nutrition_df.loc[healthy_pizzas, 'healthy'] = 1\n",
    "\n",
    "# top pizzas from this set\n",
    "per_pizza_nutrition_df[per_pizza_nutrition_df['healthy'] == 1]['name'].unique()[0]"
   ]
  },
  {
   "cell_type": "markdown",
   "metadata": {
    "heading_collapsed": true
   },
   "source": [
    "# Monthly Revenue"
   ]
  },
  {
   "cell_type": "code",
   "execution_count": 79,
   "metadata": {
    "ExecuteTime": {
     "end_time": "2022-12-13T23:38:35.441320Z",
     "start_time": "2022-12-13T23:38:35.409321Z"
    },
    "hidden": true
   },
   "outputs": [],
   "source": [
    "month_name = per_pizza_nutrition_df['order_time'].dt.month_name().to_list()\n",
    "month = per_pizza_nutrition_df['order_time'].dt.month.to_list()"
   ]
  },
  {
   "cell_type": "code",
   "execution_count": 80,
   "metadata": {
    "ExecuteTime": {
     "end_time": "2022-12-13T23:40:49.903298Z",
     "start_time": "2022-12-13T23:38:35.441320Z"
    },
    "hidden": true
   },
   "outputs": [
    {
     "data": {
      "image/png": "[encoded data removed]",
      "text/plain": [
       "<Figure size 1080x576 with 1 Axes>"
      ]
     },
     "metadata": {
      "needs_background": "light"
     },
     "output_type": "display_data"
    }
   ],
   "source": [
    "plt.figure(figsize=(15, 8))\n",
    "plt.xticks(month, month_name, rotation=20)\n",
    "monthly_sales = per_pizza_nutrition_df.groupby(per_pizza_nutrition_df['order_time'].dt.month)['price'].sum().reset_index()\n",
    "monthly_sales.rename(columns={'order_time':'month', 'price':'total_revenue'}, inplace=True)\n",
    "sns.lineplot(data=monthly_sales, x='month', y='total_revenue')\n",
    "plt.show()"
   ]
  },
  {
   "cell_type": "markdown",
   "metadata": {},
   "source": [
    "# statistical test\n",
    "\n",
    "## T-Test"
   ]
  },
  {
   "cell_type": "code",
   "execution_count": 81,
   "metadata": {
    "ExecuteTime": {
     "end_time": "2022-12-13T23:40:49.941898Z",
     "start_time": "2022-12-13T23:40:49.903298Z"
    }
   },
   "outputs": [
    {
     "data": {
      "text/html": [
       "<div>\n",
       "<style scoped>\n",
       "    .dataframe tbody tr th:only-of-type {\n",
       "        vertical-align: middle;\n",
       "    }\n",
       "\n",
       "    .dataframe tbody tr th {\n",
       "        vertical-align: top;\n",
       "    }\n",
       "\n",
       "    .dataframe thead th {\n",
       "        text-align: right;\n",
       "    }\n",
       "</style>\n",
       "<table border=\"1\" class=\"dataframe\">\n",
       "  <thead>\n",
       "    <tr style=\"text-align: right;\">\n",
       "      <th></th>\n",
       "      <th>order_details_id</th>\n",
       "      <th>protein</th>\n",
       "      <th>fat</th>\n",
       "      <th>carb</th>\n",
       "      <th>calories</th>\n",
       "      <th>size</th>\n",
       "      <th>name</th>\n",
       "      <th>pizza_id</th>\n",
       "      <th>order_time</th>\n",
       "      <th>price</th>\n",
       "      <th>category</th>\n",
       "      <th>weight</th>\n",
       "      <th>carb_%</th>\n",
       "      <th>protein_%</th>\n",
       "      <th>fat_%</th>\n",
       "      <th>Pizza_Type</th>\n",
       "      <th>protein_carb_ratio</th>\n",
       "      <th>fat_to_carb_ratio</th>\n",
       "      <th>healthy</th>\n",
       "    </tr>\n",
       "  </thead>\n",
       "  <tbody>\n",
       "    <tr>\n",
       "      <th>101642</th>\n",
       "      <td>17290</td>\n",
       "      <td>41.069</td>\n",
       "      <td>18.058</td>\n",
       "      <td>28.939</td>\n",
       "      <td>433.5</td>\n",
       "      <td>s</td>\n",
       "      <td>The Big Meat Pizza</td>\n",
       "      <td>big_meat_s</td>\n",
       "      <td>2015-05-08 16:24:35</td>\n",
       "      <td>12.0</td>\n",
       "      <td>Classic</td>\n",
       "      <td>88.066</td>\n",
       "      <td>32.860582</td>\n",
       "      <td>46.634342</td>\n",
       "      <td>20.505076</td>\n",
       "      <td>Non-Veg</td>\n",
       "      <td>1.419158</td>\n",
       "      <td>0.624002</td>\n",
       "      <td>0</td>\n",
       "    </tr>\n",
       "    <tr>\n",
       "      <th>221556</th>\n",
       "      <td>37791</td>\n",
       "      <td>41.069</td>\n",
       "      <td>18.058</td>\n",
       "      <td>28.939</td>\n",
       "      <td>433.5</td>\n",
       "      <td>s</td>\n",
       "      <td>The Big Meat Pizza</td>\n",
       "      <td>big_meat_s</td>\n",
       "      <td>2015-10-09 16:47:24</td>\n",
       "      <td>12.0</td>\n",
       "      <td>Classic</td>\n",
       "      <td>88.066</td>\n",
       "      <td>32.860582</td>\n",
       "      <td>46.634342</td>\n",
       "      <td>20.505076</td>\n",
       "      <td>Non-Veg</td>\n",
       "      <td>1.419158</td>\n",
       "      <td>0.624002</td>\n",
       "      <td>0</td>\n",
       "    </tr>\n",
       "    <tr>\n",
       "      <th>267271</th>\n",
       "      <td>45555</td>\n",
       "      <td>41.069</td>\n",
       "      <td>18.058</td>\n",
       "      <td>28.939</td>\n",
       "      <td>433.5</td>\n",
       "      <td>s</td>\n",
       "      <td>The Big Meat Pizza</td>\n",
       "      <td>big_meat_s</td>\n",
       "      <td>2015-12-06 17:30:28</td>\n",
       "      <td>12.0</td>\n",
       "      <td>Classic</td>\n",
       "      <td>88.066</td>\n",
       "      <td>32.860582</td>\n",
       "      <td>46.634342</td>\n",
       "      <td>20.505076</td>\n",
       "      <td>Non-Veg</td>\n",
       "      <td>1.419158</td>\n",
       "      <td>0.624002</td>\n",
       "      <td>0</td>\n",
       "    </tr>\n",
       "    <tr>\n",
       "      <th>221702</th>\n",
       "      <td>37815</td>\n",
       "      <td>41.069</td>\n",
       "      <td>18.058</td>\n",
       "      <td>28.939</td>\n",
       "      <td>433.5</td>\n",
       "      <td>s</td>\n",
       "      <td>The Big Meat Pizza</td>\n",
       "      <td>big_meat_s</td>\n",
       "      <td>2015-10-09 18:16:10</td>\n",
       "      <td>12.0</td>\n",
       "      <td>Classic</td>\n",
       "      <td>88.066</td>\n",
       "      <td>32.860582</td>\n",
       "      <td>46.634342</td>\n",
       "      <td>20.505076</td>\n",
       "      <td>Non-Veg</td>\n",
       "      <td>1.419158</td>\n",
       "      <td>0.624002</td>\n",
       "      <td>0</td>\n",
       "    </tr>\n",
       "    <tr>\n",
       "      <th>93163</th>\n",
       "      <td>15848</td>\n",
       "      <td>41.069</td>\n",
       "      <td>18.058</td>\n",
       "      <td>28.939</td>\n",
       "      <td>433.5</td>\n",
       "      <td>s</td>\n",
       "      <td>The Big Meat Pizza</td>\n",
       "      <td>big_meat_s</td>\n",
       "      <td>2015-04-27 15:35:13</td>\n",
       "      <td>12.0</td>\n",
       "      <td>Classic</td>\n",
       "      <td>88.066</td>\n",
       "      <td>32.860582</td>\n",
       "      <td>46.634342</td>\n",
       "      <td>20.505076</td>\n",
       "      <td>Non-Veg</td>\n",
       "      <td>1.419158</td>\n",
       "      <td>0.624002</td>\n",
       "      <td>0</td>\n",
       "    </tr>\n",
       "  </tbody>\n",
       "</table>\n",
       "</div>"
      ],
      "text/plain": [
       "        order_details_id  protein     fat    carb  calories size  \\\n",
       "101642             17290   41.069  18.058  28.939     433.5    s   \n",
       "221556             37791   41.069  18.058  28.939     433.5    s   \n",
       "267271             45555   41.069  18.058  28.939     433.5    s   \n",
       "221702             37815   41.069  18.058  28.939     433.5    s   \n",
       "93163              15848   41.069  18.058  28.939     433.5    s   \n",
       "\n",
       "                      name    pizza_id          order_time  price category  \\\n",
       "101642  The Big Meat Pizza  big_meat_s 2015-05-08 16:24:35   12.0  Classic   \n",
       "221556  The Big Meat Pizza  big_meat_s 2015-10-09 16:47:24   12.0  Classic   \n",
       "267271  The Big Meat Pizza  big_meat_s 2015-12-06 17:30:28   12.0  Classic   \n",
       "221702  The Big Meat Pizza  big_meat_s 2015-10-09 18:16:10   12.0  Classic   \n",
       "93163   The Big Meat Pizza  big_meat_s 2015-04-27 15:35:13   12.0  Classic   \n",
       "\n",
       "        weight     carb_%  protein_%      fat_% Pizza_Type  \\\n",
       "101642  88.066  32.860582  46.634342  20.505076    Non-Veg   \n",
       "221556  88.066  32.860582  46.634342  20.505076    Non-Veg   \n",
       "267271  88.066  32.860582  46.634342  20.505076    Non-Veg   \n",
       "221702  88.066  32.860582  46.634342  20.505076    Non-Veg   \n",
       "93163   88.066  32.860582  46.634342  20.505076    Non-Veg   \n",
       "\n",
       "        protein_carb_ratio  fat_to_carb_ratio  healthy  \n",
       "101642            1.419158           0.624002        0  \n",
       "221556            1.419158           0.624002        0  \n",
       "267271            1.419158           0.624002        0  \n",
       "221702            1.419158           0.624002        0  \n",
       "93163             1.419158           0.624002        0  "
      ]
     },
     "execution_count": 81,
     "metadata": {},
     "output_type": "execute_result"
    }
   ],
   "source": [
    "per_pizza_nutrition_df.head()"
   ]
  },
  {
   "cell_type": "markdown",
   "metadata": {},
   "source": [
    "## Analysing mean `protein` for `supreme` and `chicken` category\n",
    "\n",
    "## H0: Mean grams of `protein` is equal for `chicken` and `supreme`.\n",
    "\n",
    "## Ha: Mean grams of `protein` not equal for `chicken` and `supreme`."
   ]
  },
  {
   "cell_type": "code",
   "execution_count": 82,
   "metadata": {
    "ExecuteTime": {
     "end_time": "2022-12-13T23:40:49.957892Z",
     "start_time": "2022-12-13T23:40:49.941898Z"
    }
   },
   "outputs": [],
   "source": [
    "avg_protein = per_pizza_nutrition_df.groupby('category')['protein'].mean().reset_index()"
   ]
  },
  {
   "cell_type": "code",
   "execution_count": 92,
   "metadata": {
    "ExecuteTime": {
     "end_time": "2022-12-14T00:05:06.870702Z",
     "start_time": "2022-12-14T00:05:06.847353Z"
    }
   },
   "outputs": [
    {
     "name": "stdout",
     "output_type": "stream",
     "text": [
      "p_value: 0.00785565767171038\n",
      "Reject H0\n"
     ]
    }
   ],
   "source": [
    "from scipy.stats import ttest_ind_from_stats\n",
    "np.random.seed(100)\n",
    "\n",
    "device_1 = 'Chicken'\n",
    "device_2 = 'Supreme'\n",
    "\n",
    "size_1 = 30\n",
    "sample_1 = np.random.choice(per_pizza_nutrition_df[per_pizza_nutrition_df['category'] == device_1]['protein'], size_1)\n",
    "xbar_1 = sample_1.mean()\n",
    "stddev_1 = sample_1.std()\n",
    "\n",
    "size_2 = 40\n",
    "sample_2 = np.random.choice(per_pizza_nutrition_df[per_pizza_nutrition_df['category'] == device_2]['protein'], size_2)\n",
    "xbar_2 = sample_2.mean()\n",
    "stddev_2 = sample_2.std()\n",
    "\n",
    "z_statistic, p_value = ttest_ind_from_stats(xbar_1, stddev_1, size_1,\n",
    "                                            xbar_2, stddev_2, size_2,\n",
    "                                           equal_var=False)\n",
    "\n",
    "print(\"p_value: {}\".format(p_value))\n",
    "\n",
    "alpha = 0.05\n",
    "if(p_value/2 < alpha):\n",
    "    print(\"Reject H0\")\n",
    "else:\n",
    "    print(\"Cannot Reject H0\")"
   ]
  },
  {
   "cell_type": "markdown",
   "metadata": {},
   "source": [
    "## The Null hypothesis can be rejected. The mean protein from chicken category is different from supreme category"
   ]
  },
  {
   "cell_type": "markdown",
   "metadata": {},
   "source": [
    "# Summary\n",
    "\n",
    "## Challenges Faced\n",
    "1. Normalizing the ingredients of the same category to one main format. For example, fried bacon and boiled bacon are considered bacon.\n",
    "1. Difficulty in gathering accurate data for each ingredient.\n",
    "1. Normalizing and calculating nutritional values for different sizes of pizzas.\n",
    "1. Figuring out the ideal range for a holistic pizza with balanced nutrient values.\n",
    "1. Scaling the nutritional information as per pizza size.\n",
    "\n",
    "## Observations\n",
    "1. Nonvegetarian pizzas sold more than vegetarian pizzas.\n",
    "1. Peak pizza sales hours are from 11:30-1:00 pm and again from 4:30-6:00 pm.\n",
    "1. `July` month has peak revenue from pizza sales.\n",
    "1. `Green Garden Pizza` is the healthiest pizza of all the available pizzas.\n",
    "1. The Big Meat pizza has the highest protein-to-carb ratio, which makes it suitable for athletes and body builders."
   ]
  },
  {
   "cell_type": "code",
   "execution_count": null,
   "metadata": {},
   "outputs": [],
   "source": []
  }
 ],
 "metadata": {
  "kernelspec": {
   "display_name": "Python 3",
   "language": "python",
   "name": "python3"
  },
  "language_info": {
   "codemirror_mode": {
    "name": "ipython",
    "version": 3
   },
   "file_extension": ".py",
   "mimetype": "text/x-python",
   "name": "python",
   "nbconvert_exporter": "python",
   "pygments_lexer": "ipython3",
   "version": "3.7.6"
  }
 },
 "nbformat": 4,
 "nbformat_minor": 4
}
